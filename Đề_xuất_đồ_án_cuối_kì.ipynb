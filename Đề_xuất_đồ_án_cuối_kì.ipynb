{
  "nbformat": 4,
  "nbformat_minor": 0,
  "metadata": {
    "colab": {
      "name": "Đề xuất đồ án cuối kì.ipynb",
      "provenance": [],
      "collapsed_sections": []
    },
    "kernelspec": {
      "name": "python3",
      "display_name": "Python 3"
    },
    "language_info": {
      "name": "python"
    }
  },
  "cells": [
    {
      "cell_type": "markdown",
      "source": [
        "#Mã nhóm: HAO\n",
        "#Tên thành viên : \n",
        "\n",
        "1.   18521655 - Nguyễn Xuân Vinh \n",
        "2.   18520767 - Võ Kiều Hoa\n",
        "\n"
      ],
      "metadata": {
        "id": "xGRh01Om1XcO"
      }
    },
    {
      "cell_type": "markdown",
      "source": [
        "# Bài toán\n",
        "Quang Hải, một SV học ngành KHMT@UIT dọn dẹp tủ sách để chuẩn bị đón Tết.\n",
        "\n",
        "Tủ sách của Quang Hải có gần cả ngàn cuốn sách được thêm vào theo thời gian từ hồi cấp 1.\n",
        "\n",
        "Quang Hải muốn tạo một danh sách (xls) để lưu các cuốn sách trong tủ sách. Tuy nhiên, số lượng sách lớn làm cho việc nhập liệu thủ công tốn thời gian.\n",
        "\n",
        "Quang Hải nghĩ đến việc phát triển một ứng dụng, không chỉ dùng cho mình mà còn có thể chia sẻ cho các bạn bè có nhu cầu tương tự.\n",
        "\n",
        "Ứng dụng này cho phép người dùng chụp bìa cuốn sách, và chương trình máy học sẽ tự động nhận dạng chữ trên đó và nhập tên cuốn sách vào danh sách.\n",
        "\n",
        "1.   input: 1 ảnh bìa cuốn sách\n",
        "2.   output: tên cuốn sách (kiểu chuỗi)\n",
        "\n"
      ],
      "metadata": {
        "id": "nVA3lyT21y6y"
      }
    },
    {
      "cell_type": "markdown",
      "source": [
        "#Ứng dụng \n",
        "\n",
        "\n",
        "1.  Bài toán được ứng dụng thực tế trong số hóa tủ sách trong thư viện \n",
        "2. \n",
        "\n"
      ],
      "metadata": {
        "id": "rF_Nm-4S3_8p"
      }
    },
    {
      "cell_type": "markdown",
      "source": [
        "# Dữ liệu\n",
        "\n",
        "\n",
        "1.   Thu thập dữ liệu từ google(bìa thiết kế, ảnh chụp) + ảnh bìa chụp thủ công.\n",
        "2.   Dự kiến 1000 ảnh\n",
        "\n"
      ],
      "metadata": {
        "id": "8zm5SDUU48ND"
      }
    },
    {
      "cell_type": "markdown",
      "source": [
        "#Đánh giá\n",
        "1.   boundingbox : IOU = giao / (tong -giao) \n",
        "2.   Độ đo đánh giá H-mean = 2*precision* recall / (precision + recall) \n",
        "\n",
        "\n",
        "\n",
        "\n",
        "\n"
      ],
      "metadata": {
        "id": "JLfKbSp0CWJg"
      }
    },
    {
      "cell_type": "markdown",
      "source": [
        "#Mục tiêu dự kiến\n",
        "\n",
        "1.   Xây dựng được mô hình nhận dạng chữ trên bìa sách \n",
        "2.   Ứng dụng được mô hình để số hóa tủ sách.\n",
        "3.   Mục tiêu kết quả độ đo đánh giá >80%\n",
        "\n"
      ],
      "metadata": {
        "id": "rBqnoHDFCaUd"
      }
    }
  ]
}