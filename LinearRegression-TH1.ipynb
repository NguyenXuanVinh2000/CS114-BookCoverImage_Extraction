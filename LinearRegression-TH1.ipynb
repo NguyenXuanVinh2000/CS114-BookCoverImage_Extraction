{
  "nbformat": 4,
  "nbformat_minor": 0,
  "metadata": {
    "colab": {
      "name": "Bản sao của LinearRegression1.ipynb",
      "provenance": [],
      "collapsed_sections": [],
      "toc_visible": true
    },
    "kernelspec": {
      "name": "python3",
      "display_name": "Python 3"
    },
    "language_info": {
      "name": "python"
    }
  },
  "cells": [
    {
      "cell_type": "markdown",
      "metadata": {
        "id": "O4OMMqLPcsfX"
      },
      "source": [
        "## 1. Library"
      ]
    },
    {
      "cell_type": "code",
      "metadata": {
        "id": "I8uQxatDBjez"
      },
      "source": [
        "import matplotlib.pyplot as plt\n",
        "import pandas as pd\n",
        "import numpy as np\n",
        "import scipy.stats\n",
        "from sklearn.metrics import r2_score"
      ],
      "execution_count": 1,
      "outputs": []
    },
    {
      "cell_type": "code",
      "metadata": {
        "id": "6PissuQm9KaE"
      },
      "source": [
        "from statistics import mean\n",
        "from math import sqrt\n",
        "from sklearn.linear_model import LinearRegression\n",
        "from sklearn.metrics import mean_squared_error\n",
        "from collections import Counter\n",
        "from numpy import log\n",
        "from itertools import combinations\n"
      ],
      "execution_count": 2,
      "outputs": []
    },
    {
      "cell_type": "code",
      "metadata": {
        "id": "7wHCwMq-C4C_"
      },
      "source": [
        ""
      ],
      "execution_count": 2,
      "outputs": []
    },
    {
      "cell_type": "markdown",
      "metadata": {
        "id": "jZpYPXIu8oEt"
      },
      "source": [
        "## 2. Data"
      ]
    },
    {
      "cell_type": "code",
      "metadata": {
        "colab": {
          "base_uri": "https://localhost:8080/"
        },
        "id": "7tDs7paIpyHp",
        "outputId": "6803d745-bf3b-4bdb-c0bc-9e5ac22be5ce"
      },
      "source": [
        "!wget https://cs.uit.edu.vn/data2.txt\n",
        "!wget https://cs.uit.edu.vn/data3.txt\n",
        "!wget https://cs.uit.edu.vn/data4.txt"
      ],
      "execution_count": 3,
      "outputs": [
        {
          "output_type": "stream",
          "name": "stdout",
          "text": [
            "--2021-12-02 13:17:06--  https://cs.uit.edu.vn/data2.txt\n",
            "Resolving cs.uit.edu.vn (cs.uit.edu.vn)... 45.122.249.78, 118.69.123.142\n",
            "Connecting to cs.uit.edu.vn (cs.uit.edu.vn)|45.122.249.78|:443... connected.\n",
            "HTTP request sent, awaiting response... 200 OK\n",
            "Length: 1203726 (1.1M) [text/plain]\n",
            "Saving to: ‘data2.txt.9’\n",
            "\n",
            "data2.txt.9         100%[===================>]   1.15M  1.00MB/s    in 1.1s    \n",
            "\n",
            "2021-12-02 13:17:09 (1.00 MB/s) - ‘data2.txt.9’ saved [1203726/1203726]\n",
            "\n",
            "--2021-12-02 13:17:09--  https://cs.uit.edu.vn/data3.txt\n",
            "Resolving cs.uit.edu.vn (cs.uit.edu.vn)... 45.122.249.78, 118.69.123.142\n",
            "Connecting to cs.uit.edu.vn (cs.uit.edu.vn)|45.122.249.78|:443... connected.\n",
            "HTTP request sent, awaiting response... 200 OK\n",
            "Length: 178891 (175K) [text/plain]\n",
            "Saving to: ‘data3.txt.9’\n",
            "\n",
            "data3.txt.9         100%[===================>] 174.70K   384KB/s    in 0.5s    \n",
            "\n",
            "2021-12-02 13:17:10 (384 KB/s) - ‘data3.txt.9’ saved [178891/178891]\n",
            "\n",
            "--2021-12-02 13:17:10--  https://cs.uit.edu.vn/data4.txt\n",
            "Resolving cs.uit.edu.vn (cs.uit.edu.vn)... 45.122.249.78, 118.69.123.142\n",
            "Connecting to cs.uit.edu.vn (cs.uit.edu.vn)|45.122.249.78|:443... connected.\n",
            "HTTP request sent, awaiting response... 200 OK\n",
            "Length: 101704 (99K) [text/plain]\n",
            "Saving to: ‘data4.txt.9’\n",
            "\n",
            "data4.txt.9         100%[===================>]  99.32K   219KB/s    in 0.5s    \n",
            "\n",
            "2021-12-02 13:17:12 (219 KB/s) - ‘data4.txt.9’ saved [101704/101704]\n",
            "\n"
          ]
        }
      ]
    },
    {
      "cell_type": "code",
      "metadata": {
        "id": "VxLtKouTDGvC"
      },
      "source": [
        "train_path = \"data2.txt\"\n",
        "test_path3 = \"data3.txt\"\n",
        "test_path4 = \"data4.txt\""
      ],
      "execution_count": 4,
      "outputs": []
    },
    {
      "cell_type": "code",
      "metadata": {
        "id": "H_vSyLG_DLQC"
      },
      "source": [
        "#read data\n",
        "train = pd.read_csv(train_path, header=None)\n",
        "test3 = pd.read_csv(test_path3, header=None)\n",
        "test4 = pd.read_csv(test_path4, header=None)"
      ],
      "execution_count": 5,
      "outputs": []
    },
    {
      "cell_type": "code",
      "metadata": {
        "id": "aflba4-xFmqp"
      },
      "source": [
        "header = [\"size\", \"time\"]"
      ],
      "execution_count": 6,
      "outputs": []
    },
    {
      "cell_type": "code",
      "metadata": {
        "id": "hln6AEBGD_ht"
      },
      "source": [
        "train.columns=header\n",
        "test3.columns= header\n",
        "test4.columns= header"
      ],
      "execution_count": 7,
      "outputs": []
    },
    {
      "cell_type": "code",
      "metadata": {
        "id": "HZe5gwNvEq1s"
      },
      "source": [
        "#ize_ = np.array(train[\"size\"])\n",
        "#time_ = np.array(train[\"time\"])"
      ],
      "execution_count": 8,
      "outputs": []
    },
    {
      "cell_type": "code",
      "metadata": {
        "colab": {
          "base_uri": "https://localhost:8080/",
          "height": 206
        },
        "id": "sTsoBJkWNgzj",
        "outputId": "192a7b9e-6911-4718-9455-da92b0445b8e"
      },
      "source": [
        "train.head(5)"
      ],
      "execution_count": 9,
      "outputs": [
        {
          "output_type": "execute_result",
          "data": {
            "text/html": [
              "<div>\n",
              "<style scoped>\n",
              "    .dataframe tbody tr th:only-of-type {\n",
              "        vertical-align: middle;\n",
              "    }\n",
              "\n",
              "    .dataframe tbody tr th {\n",
              "        vertical-align: top;\n",
              "    }\n",
              "\n",
              "    .dataframe thead th {\n",
              "        text-align: right;\n",
              "    }\n",
              "</style>\n",
              "<table border=\"1\" class=\"dataframe\">\n",
              "  <thead>\n",
              "    <tr style=\"text-align: right;\">\n",
              "      <th></th>\n",
              "      <th>size</th>\n",
              "      <th>time</th>\n",
              "    </tr>\n",
              "  </thead>\n",
              "  <tbody>\n",
              "    <tr>\n",
              "      <th>0</th>\n",
              "      <td>6083695</td>\n",
              "      <td>0.521842</td>\n",
              "    </tr>\n",
              "    <tr>\n",
              "      <th>1</th>\n",
              "      <td>1954367</td>\n",
              "      <td>0.152648</td>\n",
              "    </tr>\n",
              "    <tr>\n",
              "      <th>2</th>\n",
              "      <td>3734185</td>\n",
              "      <td>0.298548</td>\n",
              "    </tr>\n",
              "    <tr>\n",
              "      <th>3</th>\n",
              "      <td>5839301</td>\n",
              "      <td>0.460480</td>\n",
              "    </tr>\n",
              "    <tr>\n",
              "      <th>4</th>\n",
              "      <td>6343427</td>\n",
              "      <td>0.527977</td>\n",
              "    </tr>\n",
              "  </tbody>\n",
              "</table>\n",
              "</div>"
            ],
            "text/plain": [
              "      size      time\n",
              "0  6083695  0.521842\n",
              "1  1954367  0.152648\n",
              "2  3734185  0.298548\n",
              "3  5839301  0.460480\n",
              "4  6343427  0.527977"
            ]
          },
          "metadata": {},
          "execution_count": 9
        }
      ]
    },
    {
      "cell_type": "markdown",
      "metadata": {
        "id": "LbPToo5C85QS"
      },
      "source": [
        "## 3. Visualize"
      ]
    },
    {
      "cell_type": "code",
      "metadata": {
        "colab": {
          "base_uri": "https://localhost:8080/",
          "height": 295
        },
        "id": "WW2lpNqmEUb9",
        "outputId": "b0d2fb27-c8ed-4362-cfe8-7855fb72c3d0"
      },
      "source": [
        "#plot train\n",
        "plt.scatter(train[\"size\"],train[\"time\"])\n",
        "plt.title(\"scatter plot of train set\")\n",
        "plt.xlabel(\"size\")\n",
        "plt.ylabel(\"time\")\n",
        "plt.show()"
      ],
      "execution_count": 10,
      "outputs": [
        {
          "output_type": "display_data",
          "data": {
            "image/png": "[encoded data removed]",
            "text/plain": [
              "<Figure size 432x288 with 1 Axes>"
            ]
          },
          "metadata": {
            "needs_background": "light"
          }
        }
      ]
    },
    {
      "cell_type": "code",
      "metadata": {
        "colab": {
          "base_uri": "https://localhost:8080/"
        },
        "id": "d3wCIQOgI5UJ",
        "outputId": "26be1d9c-6f2e-4b1b-826f-505a3b00cf48"
      },
      "source": [
        "#Độ tương quan #correlation\n",
        "scipy.stats.pearsonr(train[\"size\"],train[\"time\"])"
      ],
      "execution_count": 11,
      "outputs": [
        {
          "output_type": "execute_result",
          "data": {
            "text/plain": [
              "(0.9987955242864204, 0.0)"
            ]
          },
          "metadata": {},
          "execution_count": 11
        }
      ]
    },
    {
      "cell_type": "markdown",
      "metadata": {
        "id": "qgpmxH06CkHU"
      },
      "source": [
        "## 4. Simple LinearRegression"
      ]
    },
    {
      "cell_type": "markdown",
      "metadata": {
        "id": "-6Cj4AXODYpE"
      },
      "source": [
        "####train set"
      ]
    },
    {
      "cell_type": "code",
      "metadata": {
        "id": "3usnPhj-OkuU",
        "colab": {
          "base_uri": "https://localhost:8080/"
        },
        "outputId": "5fe0f75c-1c3a-4fe6-f4ce-7c4b5e07038c"
      },
      "source": [
        "lr = LinearRegression()\n",
        "\n",
        "x_train = np.array(train[\"size\"]).reshape(-1, 1)\n",
        "y_train = np.array(train[\"time\"]).reshape(-1, 1)\n",
        "\n",
        "#fit\n",
        "lr.fit(x_train, y_train)"
      ],
      "execution_count": 12,
      "outputs": [
        {
          "output_type": "execute_result",
          "data": {
            "text/plain": [
              "LinearRegression()"
            ]
          },
          "metadata": {},
          "execution_count": 12
        }
      ]
    },
    {
      "cell_type": "code",
      "metadata": {
        "id": "C2muaozOP6lk",
        "colab": {
          "base_uri": "https://localhost:8080/"
        },
        "outputId": "d42d9a81-5cd7-44d6-acf7-daa4c7efa087"
      },
      "source": [
        "#train predict\n",
        "y_train_pred = lr.predict(x_train)\n",
        "\n",
        "mse_train = mean_squared_error(y_train, y_train_pred)\n",
        "\n",
        "print(\"mse_train = \", mse_train)\n",
        "print(\"rmse_train = \", sqrt(mse_train))\n",
        "\n",
        "\n",
        "r2_score_train = r2_score(y_train, y_train_pred)\n",
        "print(\"r2_score_train = \", r2_score_train)"
      ],
      "execution_count": 13,
      "outputs": [
        {
          "output_type": "stream",
          "name": "stdout",
          "text": [
            "mse_train =  0.00014337728721748835\n",
            "rmse_train =  0.011974025522667318\n",
            "r2_score_train =  0.9975924993345858\n"
          ]
        }
      ]
    },
    {
      "cell_type": "markdown",
      "metadata": {
        "id": "DooDL5cuAHCB"
      },
      "source": [
        "#### test 3 set"
      ]
    },
    {
      "cell_type": "code",
      "metadata": {
        "id": "F_KuRO6JP0ly",
        "colab": {
          "base_uri": "https://localhost:8080/"
        },
        "outputId": "975b517d-a398-4a25-c504-3ac79f80c2e8"
      },
      "source": [
        "#reshape\n",
        "x_test3 = np.array(test3[\"size\"]).reshape(-1, 1)\n",
        "y_test3 = np.array(test3[\"time\"]).reshape(-1, 1)\n",
        "\n",
        "#predict\n",
        "y_pred3 = lr.predict(x_test3)\n",
        "\n",
        "#error\n",
        "mse_test3 = mean_squared_error(y_test3, y_pred3)\n",
        "\n",
        "print(\"mse_test3 = \", mse_test3)\n",
        "print(\"rmse_test3 = \",sqrt(mse_test3))\n",
        "\n",
        "r2_score_test3 = r2_score(y_test3, y_pred3)\n",
        "print(\"r2_score_test3 = \", r2_score_test3)"
      ],
      "execution_count": 14,
      "outputs": [
        {
          "output_type": "stream",
          "name": "stdout",
          "text": [
            "mse_test3 =  0.020664949397549082\n",
            "rmse_test3 =  0.14375308482794058\n",
            "r2_score_test3 =  0.9284132208349453\n"
          ]
        }
      ]
    },
    {
      "cell_type": "markdown",
      "metadata": {
        "id": "vF50V-6VANBs"
      },
      "source": [
        "###test 4 set\n",
        "\n"
      ]
    },
    {
      "cell_type": "code",
      "metadata": {
        "id": "s7uOZqVOBquO",
        "colab": {
          "base_uri": "https://localhost:8080/"
        },
        "outputId": "f3f5bca0-b7ca-43c0-d8b1-ce6cf37bff6d"
      },
      "source": [
        "#reshape\n",
        "x_test4 = np.array(test4[\"size\"]).reshape(-1, 1)\n",
        "y_test4 = np.array(test4[\"time\"]).reshape(-1, 1)\n",
        "\n",
        "#predict\n",
        "y_pred4 = lr.predict(x_test4)\n",
        "\n",
        "#error\n",
        "mse_test4 = mean_squared_error(y_test4, y_pred4)\n",
        "\n",
        "\n",
        "print(\"mse_test4 = \", mse_test4)\n",
        "print(\"rmse_test4 = \", sqrt(mse_test4))\n",
        "\n",
        "r2_score_test4 = r2_score(y_test4, y_pred4)\n",
        "print(\"r2_score_test4 = \", r2_score_test4)"
      ],
      "execution_count": 15,
      "outputs": [
        {
          "output_type": "stream",
          "name": "stdout",
          "text": [
            "mse_test4 =  0.22348476817426036\n",
            "rmse_test4 =  0.4727417563260732\n",
            "r2_score_test4 =  0.3156839605365861\n"
          ]
        }
      ]
    },
    {
      "cell_type": "markdown",
      "metadata": {
        "id": "fyeYSXQFF2KW"
      },
      "source": [
        "## 5. Cải thiện mô hình\n"
      ]
    },
    {
      "cell_type": "markdown",
      "metadata": {
        "id": "xFm-dZ8dNvmK"
      },
      "source": [
        "### Giảm kích thước bộ dữ liệu"
      ]
    },
    {
      "cell_type": "markdown",
      "metadata": {
        "id": "4L0Zi-rKkqio"
      },
      "source": [
        "#### Thăm dò dữ liệu"
      ]
    },
    {
      "cell_type": "code",
      "metadata": {
        "colab": {
          "base_uri": "https://localhost:8080/",
          "height": 300
        },
        "id": "bxpOGdInNzA1",
        "outputId": "6be4a74c-f67f-4350-9f24-9cd174dce092"
      },
      "source": [
        "train.describe()"
      ],
      "execution_count": 16,
      "outputs": [
        {
          "output_type": "execute_result",
          "data": {
            "text/html": [
              "<div>\n",
              "<style scoped>\n",
              "    .dataframe tbody tr th:only-of-type {\n",
              "        vertical-align: middle;\n",
              "    }\n",
              "\n",
              "    .dataframe tbody tr th {\n",
              "        vertical-align: top;\n",
              "    }\n",
              "\n",
              "    .dataframe thead th {\n",
              "        text-align: right;\n",
              "    }\n",
              "</style>\n",
              "<table border=\"1\" class=\"dataframe\">\n",
              "  <thead>\n",
              "    <tr style=\"text-align: right;\">\n",
              "      <th></th>\n",
              "      <th>size</th>\n",
              "      <th>time</th>\n",
              "    </tr>\n",
              "  </thead>\n",
              "  <tbody>\n",
              "    <tr>\n",
              "      <th>count</th>\n",
              "      <td>7.111500e+04</td>\n",
              "      <td>71115.000000</td>\n",
              "    </tr>\n",
              "    <tr>\n",
              "      <th>mean</th>\n",
              "      <td>4.998766e+06</td>\n",
              "      <td>0.406785</td>\n",
              "    </tr>\n",
              "    <tr>\n",
              "      <th>std</th>\n",
              "      <td>2.882618e+06</td>\n",
              "      <td>0.244039</td>\n",
              "    </tr>\n",
              "    <tr>\n",
              "      <th>min</th>\n",
              "      <td>2.550000e+02</td>\n",
              "      <td>0.000009</td>\n",
              "    </tr>\n",
              "    <tr>\n",
              "      <th>25%</th>\n",
              "      <td>2.496521e+06</td>\n",
              "      <td>0.192746</td>\n",
              "    </tr>\n",
              "    <tr>\n",
              "      <th>50%</th>\n",
              "      <td>5.010144e+06</td>\n",
              "      <td>0.403410</td>\n",
              "    </tr>\n",
              "    <tr>\n",
              "      <th>75%</th>\n",
              "      <td>7.481742e+06</td>\n",
              "      <td>0.616155</td>\n",
              "    </tr>\n",
              "    <tr>\n",
              "      <th>max</th>\n",
              "      <td>9.999882e+06</td>\n",
              "      <td>0.983776</td>\n",
              "    </tr>\n",
              "  </tbody>\n",
              "</table>\n",
              "</div>"
            ],
            "text/plain": [
              "               size          time\n",
              "count  7.111500e+04  71115.000000\n",
              "mean   4.998766e+06      0.406785\n",
              "std    2.882618e+06      0.244039\n",
              "min    2.550000e+02      0.000009\n",
              "25%    2.496521e+06      0.192746\n",
              "50%    5.010144e+06      0.403410\n",
              "75%    7.481742e+06      0.616155\n",
              "max    9.999882e+06      0.983776"
            ]
          },
          "metadata": {},
          "execution_count": 16
        }
      ]
    },
    {
      "cell_type": "code",
      "metadata": {
        "id": "1FD_Q2rNOYYZ"
      },
      "source": [
        "temp_train = train.sort_values(\"size\")"
      ],
      "execution_count": 17,
      "outputs": []
    },
    {
      "cell_type": "code",
      "metadata": {
        "colab": {
          "base_uri": "https://localhost:8080/",
          "height": 423
        },
        "id": "RwU8Ap6cOfXC",
        "outputId": "30ae942f-8abd-4710-91ca-ed7a888bf04d"
      },
      "source": [
        "temp_train"
      ],
      "execution_count": 18,
      "outputs": [
        {
          "output_type": "execute_result",
          "data": {
            "text/html": [
              "<div>\n",
              "<style scoped>\n",
              "    .dataframe tbody tr th:only-of-type {\n",
              "        vertical-align: middle;\n",
              "    }\n",
              "\n",
              "    .dataframe tbody tr th {\n",
              "        vertical-align: top;\n",
              "    }\n",
              "\n",
              "    .dataframe thead th {\n",
              "        text-align: right;\n",
              "    }\n",
              "</style>\n",
              "<table border=\"1\" class=\"dataframe\">\n",
              "  <thead>\n",
              "    <tr style=\"text-align: right;\">\n",
              "      <th></th>\n",
              "      <th>size</th>\n",
              "      <th>time</th>\n",
              "    </tr>\n",
              "  </thead>\n",
              "  <tbody>\n",
              "    <tr>\n",
              "      <th>504</th>\n",
              "      <td>255</td>\n",
              "      <td>0.000009</td>\n",
              "    </tr>\n",
              "    <tr>\n",
              "      <th>33963</th>\n",
              "      <td>320</td>\n",
              "      <td>0.000011</td>\n",
              "    </tr>\n",
              "    <tr>\n",
              "      <th>47822</th>\n",
              "      <td>443</td>\n",
              "      <td>0.000017</td>\n",
              "    </tr>\n",
              "    <tr>\n",
              "      <th>2598</th>\n",
              "      <td>529</td>\n",
              "      <td>0.000023</td>\n",
              "    </tr>\n",
              "    <tr>\n",
              "      <th>40808</th>\n",
              "      <td>555</td>\n",
              "      <td>0.000025</td>\n",
              "    </tr>\n",
              "    <tr>\n",
              "      <th>...</th>\n",
              "      <td>...</td>\n",
              "      <td>...</td>\n",
              "    </tr>\n",
              "    <tr>\n",
              "      <th>31827</th>\n",
              "      <td>9997873</td>\n",
              "      <td>0.865056</td>\n",
              "    </tr>\n",
              "    <tr>\n",
              "      <th>17431</th>\n",
              "      <td>9998178</td>\n",
              "      <td>0.827196</td>\n",
              "    </tr>\n",
              "    <tr>\n",
              "      <th>19247</th>\n",
              "      <td>9999502</td>\n",
              "      <td>0.835126</td>\n",
              "    </tr>\n",
              "    <tr>\n",
              "      <th>5653</th>\n",
              "      <td>9999533</td>\n",
              "      <td>0.862753</td>\n",
              "    </tr>\n",
              "    <tr>\n",
              "      <th>49677</th>\n",
              "      <td>9999882</td>\n",
              "      <td>0.837225</td>\n",
              "    </tr>\n",
              "  </tbody>\n",
              "</table>\n",
              "<p>71115 rows × 2 columns</p>\n",
              "</div>"
            ],
            "text/plain": [
              "          size      time\n",
              "504        255  0.000009\n",
              "33963      320  0.000011\n",
              "47822      443  0.000017\n",
              "2598       529  0.000023\n",
              "40808      555  0.000025\n",
              "...        ...       ...\n",
              "31827  9997873  0.865056\n",
              "17431  9998178  0.827196\n",
              "19247  9999502  0.835126\n",
              "5653   9999533  0.862753\n",
              "49677  9999882  0.837225\n",
              "\n",
              "[71115 rows x 2 columns]"
            ]
          },
          "metadata": {},
          "execution_count": 18
        }
      ]
    },
    {
      "cell_type": "code",
      "metadata": {
        "id": "T3b0EY6KPlKp"
      },
      "source": [
        "fr= train[\"size\"].min()\n",
        "_25_to = train.describe()[\"size\"].loc[\"25%\"]\n",
        "_50_to = train.describe()[\"size\"].loc[\"50%\"]\n",
        "_75_to = train.describe()[\"size\"].loc[\"75%\"]\n",
        "_100_to =  train[\"size\"].max()"
      ],
      "execution_count": 19,
      "outputs": []
    },
    {
      "cell_type": "code",
      "metadata": {
        "id": "kuJWxkpMQtsq"
      },
      "source": [
        "#sstep=(_25_to-fr)/20"
      ],
      "execution_count": 20,
      "outputs": []
    },
    {
      "cell_type": "markdown",
      "metadata": {
        "id": "Kgz8ZarRQv0K"
      },
      "source": [
        "#### Tìm ngưỡng để loại bỏ bớt dữ liệu"
      ]
    },
    {
      "cell_type": "markdown",
      "metadata": {
        "id": "K0qmCCe4KPan"
      },
      "source": [
        "+ Chúng em tìm ngưỡng để giảm kích thước dữ liệu bằng cách chạy từ min đến max và chia ra thành 1000 bin."
      ]
    },
    {
      "cell_type": "code",
      "metadata": {
        "id": "mi_vWmljR9TY"
      },
      "source": [
        "#chia 1000 bin\n",
        "_lst_size= np.linspace(fr,_100_to,1000)"
      ],
      "execution_count": 21,
      "outputs": []
    },
    {
      "cell_type": "code",
      "metadata": {
        "id": "073T-rpCVOgt"
      },
      "source": [
        "#create mse, r2 list\n",
        "mse_lst = []\n",
        "r2_lst  = []"
      ],
      "execution_count": 22,
      "outputs": []
    },
    {
      "cell_type": "code",
      "metadata": {
        "colab": {
          "base_uri": "https://localhost:8080/"
        },
        "id": "vAxxfq5RQxw0",
        "outputId": "9cc251ad-1d15-4e82-e760-12930f680ee8"
      },
      "source": [
        "for i in range(len(_lst_size)):\n",
        "\n",
        "  new_data = train[train[\"size\"]>=_lst_size[i]] #create newdata with size >= _list_size[i]\n",
        "  lr = LinearRegression()\n",
        "  \n",
        "  ##\n",
        "  x_train = np.array(new_data[\"size\"]).reshape(-1, 1)\n",
        "  y_train = np.array(new_data[\"time\"]).reshape(-1, 1)\n",
        "  \n",
        "  new_lr = lr.fit(x_train, y_train)\n",
        "  y_train_pred = new_lr.predict(x_train)\n",
        "\n",
        "  print(\">>>>>>>>>>>>>>>\", i)\n",
        "  \n",
        "  mse_train = mean_squared_error(y_train, y_train_pred)\n",
        "  r2_score_train = r2_score(y_train, y_train_pred)\n",
        "\n",
        "  ##\n",
        "  y_pred3 = new_lr.predict(x_test3)\n",
        "  mse_test3 = mean_squared_error(y_test3, y_pred3)\n",
        "  #print(\"mse3=\",mse_test3)\n",
        "  r2_score_test3 = r2_score(y_test3, y_pred3)\n",
        "  #print(\"r2_test3test3= \",r2_score_test3)\n",
        "\n",
        "  ##\n",
        "  y_pred4 = new_lr.predict(x_test4)\n",
        "  mse_test4= mean_squared_error(y_test4, y_pred4)\n",
        "  #print(\"mse4mse4=\",mse_test4)\n",
        "  r2_score_test4 = r2_score(y_test4, y_pred4)\n",
        "  #print(\"r2_test4test4= \",r2_score_test4)\n",
        "\n",
        "  mse_lst.append([mse_train, mse_test3, mse_test4])\n",
        "  r2_lst.append([r2_score_train,r2_score_test3, r2_score_test4 ])\n"
      ],
      "execution_count": 23,
      "outputs": [
        {
          "output_type": "stream",
          "name": "stdout",
          "text": [
            ">>>>>>>>>>>>>>> 0\n",
            ">>>>>>>>>>>>>>> 1\n",
            ">>>>>>>>>>>>>>> 2\n",
            ">>>>>>>>>>>>>>> 3\n",
            ">>>>>>>>>>>>>>> 4\n",
            ">>>>>>>>>>>>>>> 5\n",
            ">>>>>>>>>>>>>>> 6\n",
            ">>>>>>>>>>>>>>> 7\n",
            ">>>>>>>>>>>>>>> 8\n",
            ">>>>>>>>>>>>>>> 9\n",
            ">>>>>>>>>>>>>>> 10\n",
            ">>>>>>>>>>>>>>> 11\n",
            ">>>>>>>>>>>>>>> 12\n",
            ">>>>>>>>>>>>>>> 13\n",
            ">>>>>>>>>>>>>>> 14\n",
            ">>>>>>>>>>>>>>> 15\n",
            ">>>>>>>>>>>>>>> 16\n",
            ">>>>>>>>>>>>>>> 17\n",
            ">>>>>>>>>>>>>>> 18\n",
            ">>>>>>>>>>>>>>> 19\n",
            ">>>>>>>>>>>>>>> 20\n",
            ">>>>>>>>>>>>>>> 21\n",
            ">>>>>>>>>>>>>>> 22\n",
            ">>>>>>>>>>>>>>> 23\n",
            ">>>>>>>>>>>>>>> 24\n",
            ">>>>>>>>>>>>>>> 25\n",
            ">>>>>>>>>>>>>>> 26\n",
            ">>>>>>>>>>>>>>> 27\n",
            ">>>>>>>>>>>>>>> 28\n",
            ">>>>>>>>>>>>>>> 29\n",
            ">>>>>>>>>>>>>>> 30\n",
            ">>>>>>>>>>>>>>> 31\n",
            ">>>>>>>>>>>>>>> 32\n",
            ">>>>>>>>>>>>>>> 33\n",
            ">>>>>>>>>>>>>>> 34\n",
            ">>>>>>>>>>>>>>> 35\n",
            ">>>>>>>>>>>>>>> 36\n",
            ">>>>>>>>>>>>>>> 37\n",
            ">>>>>>>>>>>>>>> 38\n",
            ">>>>>>>>>>>>>>> 39\n",
            ">>>>>>>>>>>>>>> 40\n",
            ">>>>>>>>>>>>>>> 41\n",
            ">>>>>>>>>>>>>>> 42\n",
            ">>>>>>>>>>>>>>> 43\n",
            ">>>>>>>>>>>>>>> 44\n",
            ">>>>>>>>>>>>>>> 45\n",
            ">>>>>>>>>>>>>>> 46\n",
            ">>>>>>>>>>>>>>> 47\n",
            ">>>>>>>>>>>>>>> 48\n",
            ">>>>>>>>>>>>>>> 49\n",
            ">>>>>>>>>>>>>>> 50\n",
            ">>>>>>>>>>>>>>> 51\n",
            ">>>>>>>>>>>>>>> 52\n",
            ">>>>>>>>>>>>>>> 53\n",
            ">>>>>>>>>>>>>>> 54\n",
            ">>>>>>>>>>>>>>> 55\n",
            ">>>>>>>>>>>>>>> 56\n",
            ">>>>>>>>>>>>>>> 57\n",
            ">>>>>>>>>>>>>>> 58\n",
            ">>>>>>>>>>>>>>> 59\n",
            ">>>>>>>>>>>>>>> 60\n",
            ">>>>>>>>>>>>>>> 61\n",
            ">>>>>>>>>>>>>>> 62\n",
            ">>>>>>>>>>>>>>> 63\n",
            ">>>>>>>>>>>>>>> 64\n",
            ">>>>>>>>>>>>>>> 65\n",
            ">>>>>>>>>>>>>>> 66\n",
            ">>>>>>>>>>>>>>> 67\n",
            ">>>>>>>>>>>>>>> 68\n",
            ">>>>>>>>>>>>>>> 69\n",
            ">>>>>>>>>>>>>>> 70\n",
            ">>>>>>>>>>>>>>> 71\n",
            ">>>>>>>>>>>>>>> 72\n",
            ">>>>>>>>>>>>>>> 73\n",
            ">>>>>>>>>>>>>>> 74\n",
            ">>>>>>>>>>>>>>> 75\n",
            ">>>>>>>>>>>>>>> 76\n",
            ">>>>>>>>>>>>>>> 77\n",
            ">>>>>>>>>>>>>>> 78\n",
            ">>>>>>>>>>>>>>> 79\n",
            ">>>>>>>>>>>>>>> 80\n",
            ">>>>>>>>>>>>>>> 81\n",
            ">>>>>>>>>>>>>>> 82\n",
            ">>>>>>>>>>>>>>> 83\n",
            ">>>>>>>>>>>>>>> 84\n",
            ">>>>>>>>>>>>>>> 85\n",
            ">>>>>>>>>>>>>>> 86\n",
            ">>>>>>>>>>>>>>> 87\n",
            ">>>>>>>>>>>>>>> 88\n",
            ">>>>>>>>>>>>>>> 89\n",
            ">>>>>>>>>>>>>>> 90\n",
            ">>>>>>>>>>>>>>> 91\n",
            ">>>>>>>>>>>>>>> 92\n",
            ">>>>>>>>>>>>>>> 93\n",
            ">>>>>>>>>>>>>>> 94\n",
            ">>>>>>>>>>>>>>> 95\n",
            ">>>>>>>>>>>>>>> 96\n",
            ">>>>>>>>>>>>>>> 97\n",
            ">>>>>>>>>>>>>>> 98\n",
            ">>>>>>>>>>>>>>> 99\n",
            ">>>>>>>>>>>>>>> 100\n",
            ">>>>>>>>>>>>>>> 101\n",
            ">>>>>>>>>>>>>>> 102\n",
            ">>>>>>>>>>>>>>> 103\n",
            ">>>>>>>>>>>>>>> 104\n",
            ">>>>>>>>>>>>>>> 105\n",
            ">>>>>>>>>>>>>>> 106\n",
            ">>>>>>>>>>>>>>> 107\n",
            ">>>>>>>>>>>>>>> 108\n",
            ">>>>>>>>>>>>>>> 109\n",
            ">>>>>>>>>>>>>>> 110\n",
            ">>>>>>>>>>>>>>> 111\n",
            ">>>>>>>>>>>>>>> 112\n",
            ">>>>>>>>>>>>>>> 113\n",
            ">>>>>>>>>>>>>>> 114\n",
            ">>>>>>>>>>>>>>> 115\n",
            ">>>>>>>>>>>>>>> 116\n",
            ">>>>>>>>>>>>>>> 117\n",
            ">>>>>>>>>>>>>>> 118\n",
            ">>>>>>>>>>>>>>> 119\n",
            ">>>>>>>>>>>>>>> 120\n",
            ">>>>>>>>>>>>>>> 121\n",
            ">>>>>>>>>>>>>>> 122\n",
            ">>>>>>>>>>>>>>> 123\n",
            ">>>>>>>>>>>>>>> 124\n",
            ">>>>>>>>>>>>>>> 125\n",
            ">>>>>>>>>>>>>>> 126\n",
            ">>>>>>>>>>>>>>> 127\n",
            ">>>>>>>>>>>>>>> 128\n",
            ">>>>>>>>>>>>>>> 129\n",
            ">>>>>>>>>>>>>>> 130\n",
            ">>>>>>>>>>>>>>> 131\n",
            ">>>>>>>>>>>>>>> 132\n",
            ">>>>>>>>>>>>>>> 133\n",
            ">>>>>>>>>>>>>>> 134\n",
            ">>>>>>>>>>>>>>> 135\n",
            ">>>>>>>>>>>>>>> 136\n",
            ">>>>>>>>>>>>>>> 137\n",
            ">>>>>>>>>>>>>>> 138\n",
            ">>>>>>>>>>>>>>> 139\n",
            ">>>>>>>>>>>>>>> 140\n",
            ">>>>>>>>>>>>>>> 141\n",
            ">>>>>>>>>>>>>>> 142\n",
            ">>>>>>>>>>>>>>> 143\n",
            ">>>>>>>>>>>>>>> 144\n",
            ">>>>>>>>>>>>>>> 145\n",
            ">>>>>>>>>>>>>>> 146\n",
            ">>>>>>>>>>>>>>> 147\n",
            ">>>>>>>>>>>>>>> 148\n",
            ">>>>>>>>>>>>>>> 149\n",
            ">>>>>>>>>>>>>>> 150\n",
            ">>>>>>>>>>>>>>> 151\n",
            ">>>>>>>>>>>>>>> 152\n",
            ">>>>>>>>>>>>>>> 153\n",
            ">>>>>>>>>>>>>>> 154\n",
            ">>>>>>>>>>>>>>> 155\n",
            ">>>>>>>>>>>>>>> 156\n",
            ">>>>>>>>>>>>>>> 157\n",
            ">>>>>>>>>>>>>>> 158\n",
            ">>>>>>>>>>>>>>> 159\n",
            ">>>>>>>>>>>>>>> 160\n",
            ">>>>>>>>>>>>>>> 161\n",
            ">>>>>>>>>>>>>>> 162\n",
            ">>>>>>>>>>>>>>> 163\n",
            ">>>>>>>>>>>>>>> 164\n",
            ">>>>>>>>>>>>>>> 165\n",
            ">>>>>>>>>>>>>>> 166\n",
            ">>>>>>>>>>>>>>> 167\n",
            ">>>>>>>>>>>>>>> 168\n",
            ">>>>>>>>>>>>>>> 169\n",
            ">>>>>>>>>>>>>>> 170\n",
            ">>>>>>>>>>>>>>> 171\n",
            ">>>>>>>>>>>>>>> 172\n",
            ">>>>>>>>>>>>>>> 173\n",
            ">>>>>>>>>>>>>>> 174\n",
            ">>>>>>>>>>>>>>> 175\n",
            ">>>>>>>>>>>>>>> 176\n",
            ">>>>>>>>>>>>>>> 177\n",
            ">>>>>>>>>>>>>>> 178\n",
            ">>>>>>>>>>>>>>> 179\n",
            ">>>>>>>>>>>>>>> 180\n",
            ">>>>>>>>>>>>>>> 181\n",
            ">>>>>>>>>>>>>>> 182\n",
            ">>>>>>>>>>>>>>> 183\n",
            ">>>>>>>>>>>>>>> 184\n",
            ">>>>>>>>>>>>>>> 185\n",
            ">>>>>>>>>>>>>>> 186\n",
            ">>>>>>>>>>>>>>> 187\n",
            ">>>>>>>>>>>>>>> 188\n",
            ">>>>>>>>>>>>>>> 189\n",
            ">>>>>>>>>>>>>>> 190\n",
            ">>>>>>>>>>>>>>> 191\n",
            ">>>>>>>>>>>>>>> 192\n",
            ">>>>>>>>>>>>>>> 193\n",
            ">>>>>>>>>>>>>>> 194\n",
            ">>>>>>>>>>>>>>> 195\n",
            ">>>>>>>>>>>>>>> 196\n",
            ">>>>>>>>>>>>>>> 197\n",
            ">>>>>>>>>>>>>>> 198\n",
            ">>>>>>>>>>>>>>> 199\n",
            ">>>>>>>>>>>>>>> 200\n",
            ">>>>>>>>>>>>>>> 201\n",
            ">>>>>>>>>>>>>>> 202\n",
            ">>>>>>>>>>>>>>> 203\n",
            ">>>>>>>>>>>>>>> 204\n",
            ">>>>>>>>>>>>>>> 205\n",
            ">>>>>>>>>>>>>>> 206\n",
            ">>>>>>>>>>>>>>> 207\n",
            ">>>>>>>>>>>>>>> 208\n",
            ">>>>>>>>>>>>>>> 209\n",
            ">>>>>>>>>>>>>>> 210\n",
            ">>>>>>>>>>>>>>> 211\n",
            ">>>>>>>>>>>>>>> 212\n",
            ">>>>>>>>>>>>>>> 213\n",
            ">>>>>>>>>>>>>>> 214\n",
            ">>>>>>>>>>>>>>> 215\n",
            ">>>>>>>>>>>>>>> 216\n",
            ">>>>>>>>>>>>>>> 217\n",
            ">>>>>>>>>>>>>>> 218\n",
            ">>>>>>>>>>>>>>> 219\n",
            ">>>>>>>>>>>>>>> 220\n",
            ">>>>>>>>>>>>>>> 221\n",
            ">>>>>>>>>>>>>>> 222\n",
            ">>>>>>>>>>>>>>> 223\n",
            ">>>>>>>>>>>>>>> 224\n",
            ">>>>>>>>>>>>>>> 225\n",
            ">>>>>>>>>>>>>>> 226\n",
            ">>>>>>>>>>>>>>> 227\n",
            ">>>>>>>>>>>>>>> 228\n",
            ">>>>>>>>>>>>>>> 229\n",
            ">>>>>>>>>>>>>>> 230\n",
            ">>>>>>>>>>>>>>> 231\n",
            ">>>>>>>>>>>>>>> 232\n",
            ">>>>>>>>>>>>>>> 233\n",
            ">>>>>>>>>>>>>>> 234\n",
            ">>>>>>>>>>>>>>> 235\n",
            ">>>>>>>>>>>>>>> 236\n",
            ">>>>>>>>>>>>>>> 237\n",
            ">>>>>>>>>>>>>>> 238\n",
            ">>>>>>>>>>>>>>> 239\n",
            ">>>>>>>>>>>>>>> 240\n",
            ">>>>>>>>>>>>>>> 241\n",
            ">>>>>>>>>>>>>>> 242\n",
            ">>>>>>>>>>>>>>> 243\n",
            ">>>>>>>>>>>>>>> 244\n",
            ">>>>>>>>>>>>>>> 245\n",
            ">>>>>>>>>>>>>>> 246\n",
            ">>>>>>>>>>>>>>> 247\n",
            ">>>>>>>>>>>>>>> 248\n",
            ">>>>>>>>>>>>>>> 249\n",
            ">>>>>>>>>>>>>>> 250\n",
            ">>>>>>>>>>>>>>> 251\n",
            ">>>>>>>>>>>>>>> 252\n",
            ">>>>>>>>>>>>>>> 253\n",
            ">>>>>>>>>>>>>>> 254\n",
            ">>>>>>>>>>>>>>> 255\n",
            ">>>>>>>>>>>>>>> 256\n",
            ">>>>>>>>>>>>>>> 257\n",
            ">>>>>>>>>>>>>>> 258\n",
            ">>>>>>>>>>>>>>> 259\n",
            ">>>>>>>>>>>>>>> 260\n",
            ">>>>>>>>>>>>>>> 261\n",
            ">>>>>>>>>>>>>>> 262\n",
            ">>>>>>>>>>>>>>> 263\n",
            ">>>>>>>>>>>>>>> 264\n",
            ">>>>>>>>>>>>>>> 265\n",
            ">>>>>>>>>>>>>>> 266\n",
            ">>>>>>>>>>>>>>> 267\n",
            ">>>>>>>>>>>>>>> 268\n",
            ">>>>>>>>>>>>>>> 269\n",
            ">>>>>>>>>>>>>>> 270\n",
            ">>>>>>>>>>>>>>> 271\n",
            ">>>>>>>>>>>>>>> 272\n",
            ">>>>>>>>>>>>>>> 273\n",
            ">>>>>>>>>>>>>>> 274\n",
            ">>>>>>>>>>>>>>> 275\n",
            ">>>>>>>>>>>>>>> 276\n",
            ">>>>>>>>>>>>>>> 277\n",
            ">>>>>>>>>>>>>>> 278\n",
            ">>>>>>>>>>>>>>> 279\n",
            ">>>>>>>>>>>>>>> 280\n",
            ">>>>>>>>>>>>>>> 281\n",
            ">>>>>>>>>>>>>>> 282\n",
            ">>>>>>>>>>>>>>> 283\n",
            ">>>>>>>>>>>>>>> 284\n",
            ">>>>>>>>>>>>>>> 285\n",
            ">>>>>>>>>>>>>>> 286\n",
            ">>>>>>>>>>>>>>> 287\n",
            ">>>>>>>>>>>>>>> 288\n",
            ">>>>>>>>>>>>>>> 289\n",
            ">>>>>>>>>>>>>>> 290\n",
            ">>>>>>>>>>>>>>> 291\n",
            ">>>>>>>>>>>>>>> 292\n",
            ">>>>>>>>>>>>>>> 293\n",
            ">>>>>>>>>>>>>>> 294\n",
            ">>>>>>>>>>>>>>> 295\n",
            ">>>>>>>>>>>>>>> 296\n",
            ">>>>>>>>>>>>>>> 297\n",
            ">>>>>>>>>>>>>>> 298\n",
            ">>>>>>>>>>>>>>> 299\n",
            ">>>>>>>>>>>>>>> 300\n",
            ">>>>>>>>>>>>>>> 301\n",
            ">>>>>>>>>>>>>>> 302\n",
            ">>>>>>>>>>>>>>> 303\n",
            ">>>>>>>>>>>>>>> 304\n",
            ">>>>>>>>>>>>>>> 305\n",
            ">>>>>>>>>>>>>>> 306\n",
            ">>>>>>>>>>>>>>> 307\n",
            ">>>>>>>>>>>>>>> 308\n",
            ">>>>>>>>>>>>>>> 309\n",
            ">>>>>>>>>>>>>>> 310\n",
            ">>>>>>>>>>>>>>> 311\n",
            ">>>>>>>>>>>>>>> 312\n",
            ">>>>>>>>>>>>>>> 313\n",
            ">>>>>>>>>>>>>>> 314\n",
            ">>>>>>>>>>>>>>> 315\n",
            ">>>>>>>>>>>>>>> 316\n",
            ">>>>>>>>>>>>>>> 317\n",
            ">>>>>>>>>>>>>>> 318\n",
            ">>>>>>>>>>>>>>> 319\n",
            ">>>>>>>>>>>>>>> 320\n",
            ">>>>>>>>>>>>>>> 321\n",
            ">>>>>>>>>>>>>>> 322\n",
            ">>>>>>>>>>>>>>> 323\n",
            ">>>>>>>>>>>>>>> 324\n",
            ">>>>>>>>>>>>>>> 325\n",
            ">>>>>>>>>>>>>>> 326\n",
            ">>>>>>>>>>>>>>> 327\n",
            ">>>>>>>>>>>>>>> 328\n",
            ">>>>>>>>>>>>>>> 329\n",
            ">>>>>>>>>>>>>>> 330\n",
            ">>>>>>>>>>>>>>> 331\n",
            ">>>>>>>>>>>>>>> 332\n",
            ">>>>>>>>>>>>>>> 333\n",
            ">>>>>>>>>>>>>>> 334\n",
            ">>>>>>>>>>>>>>> 335\n",
            ">>>>>>>>>>>>>>> 336\n",
            ">>>>>>>>>>>>>>> 337\n",
            ">>>>>>>>>>>>>>> 338\n",
            ">>>>>>>>>>>>>>> 339\n",
            ">>>>>>>>>>>>>>> 340\n",
            ">>>>>>>>>>>>>>> 341\n",
            ">>>>>>>>>>>>>>> 342\n",
            ">>>>>>>>>>>>>>> 343\n",
            ">>>>>>>>>>>>>>> 344\n",
            ">>>>>>>>>>>>>>> 345\n",
            ">>>>>>>>>>>>>>> 346\n",
            ">>>>>>>>>>>>>>> 347\n",
            ">>>>>>>>>>>>>>> 348\n",
            ">>>>>>>>>>>>>>> 349\n",
            ">>>>>>>>>>>>>>> 350\n",
            ">>>>>>>>>>>>>>> 351\n",
            ">>>>>>>>>>>>>>> 352\n",
            ">>>>>>>>>>>>>>> 353\n",
            ">>>>>>>>>>>>>>> 354\n",
            ">>>>>>>>>>>>>>> 355\n",
            ">>>>>>>>>>>>>>> 356\n",
            ">>>>>>>>>>>>>>> 357\n",
            ">>>>>>>>>>>>>>> 358\n",
            ">>>>>>>>>>>>>>> 359\n",
            ">>>>>>>>>>>>>>> 360\n",
            ">>>>>>>>>>>>>>> 361\n",
            ">>>>>>>>>>>>>>> 362\n",
            ">>>>>>>>>>>>>>> 363\n",
            ">>>>>>>>>>>>>>> 364\n",
            ">>>>>>>>>>>>>>> 365\n",
            ">>>>>>>>>>>>>>> 366\n",
            ">>>>>>>>>>>>>>> 367\n",
            ">>>>>>>>>>>>>>> 368\n",
            ">>>>>>>>>>>>>>> 369\n",
            ">>>>>>>>>>>>>>> 370\n",
            ">>>>>>>>>>>>>>> 371\n",
            ">>>>>>>>>>>>>>> 372\n",
            ">>>>>>>>>>>>>>> 373\n",
            ">>>>>>>>>>>>>>> 374\n",
            ">>>>>>>>>>>>>>> 375\n",
            ">>>>>>>>>>>>>>> 376\n",
            ">>>>>>>>>>>>>>> 377\n",
            ">>>>>>>>>>>>>>> 378\n",
            ">>>>>>>>>>>>>>> 379\n",
            ">>>>>>>>>>>>>>> 380\n",
            ">>>>>>>>>>>>>>> 381\n",
            ">>>>>>>>>>>>>>> 382\n",
            ">>>>>>>>>>>>>>> 383\n",
            ">>>>>>>>>>>>>>> 384\n",
            ">>>>>>>>>>>>>>> 385\n",
            ">>>>>>>>>>>>>>> 386\n",
            ">>>>>>>>>>>>>>> 387\n",
            ">>>>>>>>>>>>>>> 388\n",
            ">>>>>>>>>>>>>>> 389\n",
            ">>>>>>>>>>>>>>> 390\n",
            ">>>>>>>>>>>>>>> 391\n",
            ">>>>>>>>>>>>>>> 392\n",
            ">>>>>>>>>>>>>>> 393\n",
            ">>>>>>>>>>>>>>> 394\n",
            ">>>>>>>>>>>>>>> 395\n",
            ">>>>>>>>>>>>>>> 396\n",
            ">>>>>>>>>>>>>>> 397\n",
            ">>>>>>>>>>>>>>> 398\n",
            ">>>>>>>>>>>>>>> 399\n",
            ">>>>>>>>>>>>>>> 400\n",
            ">>>>>>>>>>>>>>> 401\n",
            ">>>>>>>>>>>>>>> 402\n",
            ">>>>>>>>>>>>>>> 403\n",
            ">>>>>>>>>>>>>>> 404\n",
            ">>>>>>>>>>>>>>> 405\n",
            ">>>>>>>>>>>>>>> 406\n",
            ">>>>>>>>>>>>>>> 407\n",
            ">>>>>>>>>>>>>>> 408\n",
            ">>>>>>>>>>>>>>> 409\n",
            ">>>>>>>>>>>>>>> 410\n",
            ">>>>>>>>>>>>>>> 411\n",
            ">>>>>>>>>>>>>>> 412\n",
            ">>>>>>>>>>>>>>> 413\n",
            ">>>>>>>>>>>>>>> 414\n",
            ">>>>>>>>>>>>>>> 415\n",
            ">>>>>>>>>>>>>>> 416\n",
            ">>>>>>>>>>>>>>> 417\n",
            ">>>>>>>>>>>>>>> 418\n",
            ">>>>>>>>>>>>>>> 419\n",
            ">>>>>>>>>>>>>>> 420\n",
            ">>>>>>>>>>>>>>> 421\n",
            ">>>>>>>>>>>>>>> 422\n",
            ">>>>>>>>>>>>>>> 423\n",
            ">>>>>>>>>>>>>>> 424\n",
            ">>>>>>>>>>>>>>> 425\n",
            ">>>>>>>>>>>>>>> 426\n",
            ">>>>>>>>>>>>>>> 427\n",
            ">>>>>>>>>>>>>>> 428\n",
            ">>>>>>>>>>>>>>> 429\n",
            ">>>>>>>>>>>>>>> 430\n",
            ">>>>>>>>>>>>>>> 431\n",
            ">>>>>>>>>>>>>>> 432\n",
            ">>>>>>>>>>>>>>> 433\n",
            ">>>>>>>>>>>>>>> 434\n",
            ">>>>>>>>>>>>>>> 435\n",
            ">>>>>>>>>>>>>>> 436\n",
            ">>>>>>>>>>>>>>> 437\n",
            ">>>>>>>>>>>>>>> 438\n",
            ">>>>>>>>>>>>>>> 439\n",
            ">>>>>>>>>>>>>>> 440\n",
            ">>>>>>>>>>>>>>> 441\n",
            ">>>>>>>>>>>>>>> 442\n",
            ">>>>>>>>>>>>>>> 443\n",
            ">>>>>>>>>>>>>>> 444\n",
            ">>>>>>>>>>>>>>> 445\n",
            ">>>>>>>>>>>>>>> 446\n",
            ">>>>>>>>>>>>>>> 447\n",
            ">>>>>>>>>>>>>>> 448\n",
            ">>>>>>>>>>>>>>> 449\n",
            ">>>>>>>>>>>>>>> 450\n",
            ">>>>>>>>>>>>>>> 451\n",
            ">>>>>>>>>>>>>>> 452\n",
            ">>>>>>>>>>>>>>> 453\n",
            ">>>>>>>>>>>>>>> 454\n",
            ">>>>>>>>>>>>>>> 455\n",
            ">>>>>>>>>>>>>>> 456\n",
            ">>>>>>>>>>>>>>> 457\n",
            ">>>>>>>>>>>>>>> 458\n",
            ">>>>>>>>>>>>>>> 459\n",
            ">>>>>>>>>>>>>>> 460\n",
            ">>>>>>>>>>>>>>> 461\n",
            ">>>>>>>>>>>>>>> 462\n",
            ">>>>>>>>>>>>>>> 463\n",
            ">>>>>>>>>>>>>>> 464\n",
            ">>>>>>>>>>>>>>> 465\n",
            ">>>>>>>>>>>>>>> 466\n",
            ">>>>>>>>>>>>>>> 467\n",
            ">>>>>>>>>>>>>>> 468\n",
            ">>>>>>>>>>>>>>> 469\n",
            ">>>>>>>>>>>>>>> 470\n",
            ">>>>>>>>>>>>>>> 471\n",
            ">>>>>>>>>>>>>>> 472\n",
            ">>>>>>>>>>>>>>> 473\n",
            ">>>>>>>>>>>>>>> 474\n",
            ">>>>>>>>>>>>>>> 475\n",
            ">>>>>>>>>>>>>>> 476\n",
            ">>>>>>>>>>>>>>> 477\n",
            ">>>>>>>>>>>>>>> 478\n",
            ">>>>>>>>>>>>>>> 479\n",
            ">>>>>>>>>>>>>>> 480\n",
            ">>>>>>>>>>>>>>> 481\n",
            ">>>>>>>>>>>>>>> 482\n",
            ">>>>>>>>>>>>>>> 483\n",
            ">>>>>>>>>>>>>>> 484\n",
            ">>>>>>>>>>>>>>> 485\n",
            ">>>>>>>>>>>>>>> 486\n",
            ">>>>>>>>>>>>>>> 487\n",
            ">>>>>>>>>>>>>>> 488\n",
            ">>>>>>>>>>>>>>> 489\n",
            ">>>>>>>>>>>>>>> 490\n",
            ">>>>>>>>>>>>>>> 491\n",
            ">>>>>>>>>>>>>>> 492\n",
            ">>>>>>>>>>>>>>> 493\n",
            ">>>>>>>>>>>>>>> 494\n",
            ">>>>>>>>>>>>>>> 495\n",
            ">>>>>>>>>>>>>>> 496\n",
            ">>>>>>>>>>>>>>> 497\n",
            ">>>>>>>>>>>>>>> 498\n",
            ">>>>>>>>>>>>>>> 499\n",
            ">>>>>>>>>>>>>>> 500\n",
            ">>>>>>>>>>>>>>> 501\n",
            ">>>>>>>>>>>>>>> 502\n",
            ">>>>>>>>>>>>>>> 503\n",
            ">>>>>>>>>>>>>>> 504\n",
            ">>>>>>>>>>>>>>> 505\n",
            ">>>>>>>>>>>>>>> 506\n",
            ">>>>>>>>>>>>>>> 507\n",
            ">>>>>>>>>>>>>>> 508\n",
            ">>>>>>>>>>>>>>> 509\n",
            ">>>>>>>>>>>>>>> 510\n",
            ">>>>>>>>>>>>>>> 511\n",
            ">>>>>>>>>>>>>>> 512\n",
            ">>>>>>>>>>>>>>> 513\n",
            ">>>>>>>>>>>>>>> 514\n",
            ">>>>>>>>>>>>>>> 515\n",
            ">>>>>>>>>>>>>>> 516\n",
            ">>>>>>>>>>>>>>> 517\n",
            ">>>>>>>>>>>>>>> 518\n",
            ">>>>>>>>>>>>>>> 519\n",
            ">>>>>>>>>>>>>>> 520\n",
            ">>>>>>>>>>>>>>> 521\n",
            ">>>>>>>>>>>>>>> 522\n",
            ">>>>>>>>>>>>>>> 523\n",
            ">>>>>>>>>>>>>>> 524\n",
            ">>>>>>>>>>>>>>> 525\n",
            ">>>>>>>>>>>>>>> 526\n",
            ">>>>>>>>>>>>>>> 527\n",
            ">>>>>>>>>>>>>>> 528\n",
            ">>>>>>>>>>>>>>> 529\n",
            ">>>>>>>>>>>>>>> 530\n",
            ">>>>>>>>>>>>>>> 531\n",
            ">>>>>>>>>>>>>>> 532\n",
            ">>>>>>>>>>>>>>> 533\n",
            ">>>>>>>>>>>>>>> 534\n",
            ">>>>>>>>>>>>>>> 535\n",
            ">>>>>>>>>>>>>>> 536\n",
            ">>>>>>>>>>>>>>> 537\n",
            ">>>>>>>>>>>>>>> 538\n",
            ">>>>>>>>>>>>>>> 539\n",
            ">>>>>>>>>>>>>>> 540\n",
            ">>>>>>>>>>>>>>> 541\n",
            ">>>>>>>>>>>>>>> 542\n",
            ">>>>>>>>>>>>>>> 543\n",
            ">>>>>>>>>>>>>>> 544\n",
            ">>>>>>>>>>>>>>> 545\n",
            ">>>>>>>>>>>>>>> 546\n",
            ">>>>>>>>>>>>>>> 547\n",
            ">>>>>>>>>>>>>>> 548\n",
            ">>>>>>>>>>>>>>> 549\n",
            ">>>>>>>>>>>>>>> 550\n",
            ">>>>>>>>>>>>>>> 551\n",
            ">>>>>>>>>>>>>>> 552\n",
            ">>>>>>>>>>>>>>> 553\n",
            ">>>>>>>>>>>>>>> 554\n",
            ">>>>>>>>>>>>>>> 555\n",
            ">>>>>>>>>>>>>>> 556\n",
            ">>>>>>>>>>>>>>> 557\n",
            ">>>>>>>>>>>>>>> 558\n",
            ">>>>>>>>>>>>>>> 559\n",
            ">>>>>>>>>>>>>>> 560\n",
            ">>>>>>>>>>>>>>> 561\n",
            ">>>>>>>>>>>>>>> 562\n",
            ">>>>>>>>>>>>>>> 563\n",
            ">>>>>>>>>>>>>>> 564\n",
            ">>>>>>>>>>>>>>> 565\n",
            ">>>>>>>>>>>>>>> 566\n",
            ">>>>>>>>>>>>>>> 567\n",
            ">>>>>>>>>>>>>>> 568\n",
            ">>>>>>>>>>>>>>> 569\n",
            ">>>>>>>>>>>>>>> 570\n",
            ">>>>>>>>>>>>>>> 571\n",
            ">>>>>>>>>>>>>>> 572\n",
            ">>>>>>>>>>>>>>> 573\n",
            ">>>>>>>>>>>>>>> 574\n",
            ">>>>>>>>>>>>>>> 575\n",
            ">>>>>>>>>>>>>>> 576\n",
            ">>>>>>>>>>>>>>> 577\n",
            ">>>>>>>>>>>>>>> 578\n",
            ">>>>>>>>>>>>>>> 579\n",
            ">>>>>>>>>>>>>>> 580\n",
            ">>>>>>>>>>>>>>> 581\n",
            ">>>>>>>>>>>>>>> 582\n",
            ">>>>>>>>>>>>>>> 583\n",
            ">>>>>>>>>>>>>>> 584\n",
            ">>>>>>>>>>>>>>> 585\n",
            ">>>>>>>>>>>>>>> 586\n",
            ">>>>>>>>>>>>>>> 587\n",
            ">>>>>>>>>>>>>>> 588\n",
            ">>>>>>>>>>>>>>> 589\n",
            ">>>>>>>>>>>>>>> 590\n",
            ">>>>>>>>>>>>>>> 591\n",
            ">>>>>>>>>>>>>>> 592\n",
            ">>>>>>>>>>>>>>> 593\n",
            ">>>>>>>>>>>>>>> 594\n",
            ">>>>>>>>>>>>>>> 595\n",
            ">>>>>>>>>>>>>>> 596\n",
            ">>>>>>>>>>>>>>> 597\n",
            ">>>>>>>>>>>>>>> 598\n",
            ">>>>>>>>>>>>>>> 599\n",
            ">>>>>>>>>>>>>>> 600\n",
            ">>>>>>>>>>>>>>> 601\n",
            ">>>>>>>>>>>>>>> 602\n",
            ">>>>>>>>>>>>>>> 603\n",
            ">>>>>>>>>>>>>>> 604\n",
            ">>>>>>>>>>>>>>> 605\n",
            ">>>>>>>>>>>>>>> 606\n",
            ">>>>>>>>>>>>>>> 607\n",
            ">>>>>>>>>>>>>>> 608\n",
            ">>>>>>>>>>>>>>> 609\n",
            ">>>>>>>>>>>>>>> 610\n",
            ">>>>>>>>>>>>>>> 611\n",
            ">>>>>>>>>>>>>>> 612\n",
            ">>>>>>>>>>>>>>> 613\n",
            ">>>>>>>>>>>>>>> 614\n",
            ">>>>>>>>>>>>>>> 615\n",
            ">>>>>>>>>>>>>>> 616\n",
            ">>>>>>>>>>>>>>> 617\n",
            ">>>>>>>>>>>>>>> 618\n",
            ">>>>>>>>>>>>>>> 619\n",
            ">>>>>>>>>>>>>>> 620\n",
            ">>>>>>>>>>>>>>> 621\n",
            ">>>>>>>>>>>>>>> 622\n",
            ">>>>>>>>>>>>>>> 623\n",
            ">>>>>>>>>>>>>>> 624\n",
            ">>>>>>>>>>>>>>> 625\n",
            ">>>>>>>>>>>>>>> 626\n",
            ">>>>>>>>>>>>>>> 627\n",
            ">>>>>>>>>>>>>>> 628\n",
            ">>>>>>>>>>>>>>> 629\n",
            ">>>>>>>>>>>>>>> 630\n",
            ">>>>>>>>>>>>>>> 631\n",
            ">>>>>>>>>>>>>>> 632\n",
            ">>>>>>>>>>>>>>> 633\n",
            ">>>>>>>>>>>>>>> 634\n",
            ">>>>>>>>>>>>>>> 635\n",
            ">>>>>>>>>>>>>>> 636\n",
            ">>>>>>>>>>>>>>> 637\n",
            ">>>>>>>>>>>>>>> 638\n",
            ">>>>>>>>>>>>>>> 639\n",
            ">>>>>>>>>>>>>>> 640\n",
            ">>>>>>>>>>>>>>> 641\n",
            ">>>>>>>>>>>>>>> 642\n",
            ">>>>>>>>>>>>>>> 643\n",
            ">>>>>>>>>>>>>>> 644\n",
            ">>>>>>>>>>>>>>> 645\n",
            ">>>>>>>>>>>>>>> 646\n",
            ">>>>>>>>>>>>>>> 647\n",
            ">>>>>>>>>>>>>>> 648\n",
            ">>>>>>>>>>>>>>> 649\n",
            ">>>>>>>>>>>>>>> 650\n",
            ">>>>>>>>>>>>>>> 651\n",
            ">>>>>>>>>>>>>>> 652\n",
            ">>>>>>>>>>>>>>> 653\n",
            ">>>>>>>>>>>>>>> 654\n",
            ">>>>>>>>>>>>>>> 655\n",
            ">>>>>>>>>>>>>>> 656\n",
            ">>>>>>>>>>>>>>> 657\n",
            ">>>>>>>>>>>>>>> 658\n",
            ">>>>>>>>>>>>>>> 659\n",
            ">>>>>>>>>>>>>>> 660\n",
            ">>>>>>>>>>>>>>> 661\n",
            ">>>>>>>>>>>>>>> 662\n",
            ">>>>>>>>>>>>>>> 663\n",
            ">>>>>>>>>>>>>>> 664\n",
            ">>>>>>>>>>>>>>> 665\n",
            ">>>>>>>>>>>>>>> 666\n",
            ">>>>>>>>>>>>>>> 667\n",
            ">>>>>>>>>>>>>>> 668\n",
            ">>>>>>>>>>>>>>> 669\n",
            ">>>>>>>>>>>>>>> 670\n",
            ">>>>>>>>>>>>>>> 671\n",
            ">>>>>>>>>>>>>>> 672\n",
            ">>>>>>>>>>>>>>> 673\n",
            ">>>>>>>>>>>>>>> 674\n",
            ">>>>>>>>>>>>>>> 675\n",
            ">>>>>>>>>>>>>>> 676\n",
            ">>>>>>>>>>>>>>> 677\n",
            ">>>>>>>>>>>>>>> 678\n",
            ">>>>>>>>>>>>>>> 679\n",
            ">>>>>>>>>>>>>>> 680\n",
            ">>>>>>>>>>>>>>> 681\n",
            ">>>>>>>>>>>>>>> 682\n",
            ">>>>>>>>>>>>>>> 683\n",
            ">>>>>>>>>>>>>>> 684\n",
            ">>>>>>>>>>>>>>> 685\n",
            ">>>>>>>>>>>>>>> 686\n",
            ">>>>>>>>>>>>>>> 687\n",
            ">>>>>>>>>>>>>>> 688\n",
            ">>>>>>>>>>>>>>> 689\n",
            ">>>>>>>>>>>>>>> 690\n",
            ">>>>>>>>>>>>>>> 691\n",
            ">>>>>>>>>>>>>>> 692\n",
            ">>>>>>>>>>>>>>> 693\n",
            ">>>>>>>>>>>>>>> 694\n",
            ">>>>>>>>>>>>>>> 695\n",
            ">>>>>>>>>>>>>>> 696\n",
            ">>>>>>>>>>>>>>> 697\n",
            ">>>>>>>>>>>>>>> 698\n",
            ">>>>>>>>>>>>>>> 699\n",
            ">>>>>>>>>>>>>>> 700\n",
            ">>>>>>>>>>>>>>> 701\n",
            ">>>>>>>>>>>>>>> 702\n",
            ">>>>>>>>>>>>>>> 703\n",
            ">>>>>>>>>>>>>>> 704\n",
            ">>>>>>>>>>>>>>> 705\n",
            ">>>>>>>>>>>>>>> 706\n",
            ">>>>>>>>>>>>>>> 707\n",
            ">>>>>>>>>>>>>>> 708\n",
            ">>>>>>>>>>>>>>> 709\n",
            ">>>>>>>>>>>>>>> 710\n",
            ">>>>>>>>>>>>>>> 711\n",
            ">>>>>>>>>>>>>>> 712\n",
            ">>>>>>>>>>>>>>> 713\n",
            ">>>>>>>>>>>>>>> 714\n",
            ">>>>>>>>>>>>>>> 715\n",
            ">>>>>>>>>>>>>>> 716\n",
            ">>>>>>>>>>>>>>> 717\n",
            ">>>>>>>>>>>>>>> 718\n",
            ">>>>>>>>>>>>>>> 719\n",
            ">>>>>>>>>>>>>>> 720\n",
            ">>>>>>>>>>>>>>> 721\n",
            ">>>>>>>>>>>>>>> 722\n",
            ">>>>>>>>>>>>>>> 723\n",
            ">>>>>>>>>>>>>>> 724\n",
            ">>>>>>>>>>>>>>> 725\n",
            ">>>>>>>>>>>>>>> 726\n",
            ">>>>>>>>>>>>>>> 727\n",
            ">>>>>>>>>>>>>>> 728\n",
            ">>>>>>>>>>>>>>> 729\n",
            ">>>>>>>>>>>>>>> 730\n",
            ">>>>>>>>>>>>>>> 731\n",
            ">>>>>>>>>>>>>>> 732\n",
            ">>>>>>>>>>>>>>> 733\n",
            ">>>>>>>>>>>>>>> 734\n",
            ">>>>>>>>>>>>>>> 735\n",
            ">>>>>>>>>>>>>>> 736\n",
            ">>>>>>>>>>>>>>> 737\n",
            ">>>>>>>>>>>>>>> 738\n",
            ">>>>>>>>>>>>>>> 739\n",
            ">>>>>>>>>>>>>>> 740\n",
            ">>>>>>>>>>>>>>> 741\n",
            ">>>>>>>>>>>>>>> 742\n",
            ">>>>>>>>>>>>>>> 743\n",
            ">>>>>>>>>>>>>>> 744\n",
            ">>>>>>>>>>>>>>> 745\n",
            ">>>>>>>>>>>>>>> 746\n",
            ">>>>>>>>>>>>>>> 747\n",
            ">>>>>>>>>>>>>>> 748\n",
            ">>>>>>>>>>>>>>> 749\n",
            ">>>>>>>>>>>>>>> 750\n",
            ">>>>>>>>>>>>>>> 751\n",
            ">>>>>>>>>>>>>>> 752\n",
            ">>>>>>>>>>>>>>> 753\n",
            ">>>>>>>>>>>>>>> 754\n",
            ">>>>>>>>>>>>>>> 755\n",
            ">>>>>>>>>>>>>>> 756\n",
            ">>>>>>>>>>>>>>> 757\n",
            ">>>>>>>>>>>>>>> 758\n",
            ">>>>>>>>>>>>>>> 759\n",
            ">>>>>>>>>>>>>>> 760\n",
            ">>>>>>>>>>>>>>> 761\n",
            ">>>>>>>>>>>>>>> 762\n",
            ">>>>>>>>>>>>>>> 763\n",
            ">>>>>>>>>>>>>>> 764\n",
            ">>>>>>>>>>>>>>> 765\n",
            ">>>>>>>>>>>>>>> 766\n",
            ">>>>>>>>>>>>>>> 767\n",
            ">>>>>>>>>>>>>>> 768\n",
            ">>>>>>>>>>>>>>> 769\n",
            ">>>>>>>>>>>>>>> 770\n",
            ">>>>>>>>>>>>>>> 771\n",
            ">>>>>>>>>>>>>>> 772\n",
            ">>>>>>>>>>>>>>> 773\n",
            ">>>>>>>>>>>>>>> 774\n",
            ">>>>>>>>>>>>>>> 775\n",
            ">>>>>>>>>>>>>>> 776\n",
            ">>>>>>>>>>>>>>> 777\n",
            ">>>>>>>>>>>>>>> 778\n",
            ">>>>>>>>>>>>>>> 779\n",
            ">>>>>>>>>>>>>>> 780\n",
            ">>>>>>>>>>>>>>> 781\n",
            ">>>>>>>>>>>>>>> 782\n",
            ">>>>>>>>>>>>>>> 783\n",
            ">>>>>>>>>>>>>>> 784\n",
            ">>>>>>>>>>>>>>> 785\n",
            ">>>>>>>>>>>>>>> 786\n",
            ">>>>>>>>>>>>>>> 787\n",
            ">>>>>>>>>>>>>>> 788\n",
            ">>>>>>>>>>>>>>> 789\n",
            ">>>>>>>>>>>>>>> 790\n",
            ">>>>>>>>>>>>>>> 791\n",
            ">>>>>>>>>>>>>>> 792\n",
            ">>>>>>>>>>>>>>> 793\n",
            ">>>>>>>>>>>>>>> 794\n",
            ">>>>>>>>>>>>>>> 795\n",
            ">>>>>>>>>>>>>>> 796\n",
            ">>>>>>>>>>>>>>> 797\n",
            ">>>>>>>>>>>>>>> 798\n",
            ">>>>>>>>>>>>>>> 799\n",
            ">>>>>>>>>>>>>>> 800\n",
            ">>>>>>>>>>>>>>> 801\n",
            ">>>>>>>>>>>>>>> 802\n",
            ">>>>>>>>>>>>>>> 803\n",
            ">>>>>>>>>>>>>>> 804\n",
            ">>>>>>>>>>>>>>> 805\n",
            ">>>>>>>>>>>>>>> 806\n",
            ">>>>>>>>>>>>>>> 807\n",
            ">>>>>>>>>>>>>>> 808\n",
            ">>>>>>>>>>>>>>> 809\n",
            ">>>>>>>>>>>>>>> 810\n",
            ">>>>>>>>>>>>>>> 811\n",
            ">>>>>>>>>>>>>>> 812\n",
            ">>>>>>>>>>>>>>> 813\n",
            ">>>>>>>>>>>>>>> 814\n",
            ">>>>>>>>>>>>>>> 815\n",
            ">>>>>>>>>>>>>>> 816\n",
            ">>>>>>>>>>>>>>> 817\n",
            ">>>>>>>>>>>>>>> 818\n",
            ">>>>>>>>>>>>>>> 819\n",
            ">>>>>>>>>>>>>>> 820\n",
            ">>>>>>>>>>>>>>> 821\n",
            ">>>>>>>>>>>>>>> 822\n",
            ">>>>>>>>>>>>>>> 823\n",
            ">>>>>>>>>>>>>>> 824\n",
            ">>>>>>>>>>>>>>> 825\n",
            ">>>>>>>>>>>>>>> 826\n",
            ">>>>>>>>>>>>>>> 827\n",
            ">>>>>>>>>>>>>>> 828\n",
            ">>>>>>>>>>>>>>> 829\n",
            ">>>>>>>>>>>>>>> 830\n",
            ">>>>>>>>>>>>>>> 831\n",
            ">>>>>>>>>>>>>>> 832\n",
            ">>>>>>>>>>>>>>> 833\n",
            ">>>>>>>>>>>>>>> 834\n",
            ">>>>>>>>>>>>>>> 835\n",
            ">>>>>>>>>>>>>>> 836\n",
            ">>>>>>>>>>>>>>> 837\n",
            ">>>>>>>>>>>>>>> 838\n",
            ">>>>>>>>>>>>>>> 839\n",
            ">>>>>>>>>>>>>>> 840\n",
            ">>>>>>>>>>>>>>> 841\n",
            ">>>>>>>>>>>>>>> 842\n",
            ">>>>>>>>>>>>>>> 843\n",
            ">>>>>>>>>>>>>>> 844\n",
            ">>>>>>>>>>>>>>> 845\n",
            ">>>>>>>>>>>>>>> 846\n",
            ">>>>>>>>>>>>>>> 847\n",
            ">>>>>>>>>>>>>>> 848\n",
            ">>>>>>>>>>>>>>> 849\n",
            ">>>>>>>>>>>>>>> 850\n",
            ">>>>>>>>>>>>>>> 851\n",
            ">>>>>>>>>>>>>>> 852\n",
            ">>>>>>>>>>>>>>> 853\n",
            ">>>>>>>>>>>>>>> 854\n",
            ">>>>>>>>>>>>>>> 855\n",
            ">>>>>>>>>>>>>>> 856\n",
            ">>>>>>>>>>>>>>> 857\n",
            ">>>>>>>>>>>>>>> 858\n",
            ">>>>>>>>>>>>>>> 859\n",
            ">>>>>>>>>>>>>>> 860\n",
            ">>>>>>>>>>>>>>> 861\n",
            ">>>>>>>>>>>>>>> 862\n",
            ">>>>>>>>>>>>>>> 863\n",
            ">>>>>>>>>>>>>>> 864\n",
            ">>>>>>>>>>>>>>> 865\n",
            ">>>>>>>>>>>>>>> 866\n",
            ">>>>>>>>>>>>>>> 867\n",
            ">>>>>>>>>>>>>>> 868\n",
            ">>>>>>>>>>>>>>> 869\n",
            ">>>>>>>>>>>>>>> 870\n",
            ">>>>>>>>>>>>>>> 871\n",
            ">>>>>>>>>>>>>>> 872\n",
            ">>>>>>>>>>>>>>> 873\n",
            ">>>>>>>>>>>>>>> 874\n",
            ">>>>>>>>>>>>>>> 875\n",
            ">>>>>>>>>>>>>>> 876\n",
            ">>>>>>>>>>>>>>> 877\n",
            ">>>>>>>>>>>>>>> 878\n",
            ">>>>>>>>>>>>>>> 879\n",
            ">>>>>>>>>>>>>>> 880\n",
            ">>>>>>>>>>>>>>> 881\n",
            ">>>>>>>>>>>>>>> 882\n",
            ">>>>>>>>>>>>>>> 883\n",
            ">>>>>>>>>>>>>>> 884\n",
            ">>>>>>>>>>>>>>> 885\n",
            ">>>>>>>>>>>>>>> 886\n",
            ">>>>>>>>>>>>>>> 887\n",
            ">>>>>>>>>>>>>>> 888\n",
            ">>>>>>>>>>>>>>> 889\n",
            ">>>>>>>>>>>>>>> 890\n",
            ">>>>>>>>>>>>>>> 891\n",
            ">>>>>>>>>>>>>>> 892\n",
            ">>>>>>>>>>>>>>> 893\n",
            ">>>>>>>>>>>>>>> 894\n",
            ">>>>>>>>>>>>>>> 895\n",
            ">>>>>>>>>>>>>>> 896\n",
            ">>>>>>>>>>>>>>> 897\n",
            ">>>>>>>>>>>>>>> 898\n",
            ">>>>>>>>>>>>>>> 899\n",
            ">>>>>>>>>>>>>>> 900\n",
            ">>>>>>>>>>>>>>> 901\n",
            ">>>>>>>>>>>>>>> 902\n",
            ">>>>>>>>>>>>>>> 903\n",
            ">>>>>>>>>>>>>>> 904\n",
            ">>>>>>>>>>>>>>> 905\n",
            ">>>>>>>>>>>>>>> 906\n",
            ">>>>>>>>>>>>>>> 907\n",
            ">>>>>>>>>>>>>>> 908\n",
            ">>>>>>>>>>>>>>> 909\n",
            ">>>>>>>>>>>>>>> 910\n",
            ">>>>>>>>>>>>>>> 911\n",
            ">>>>>>>>>>>>>>> 912\n",
            ">>>>>>>>>>>>>>> 913\n",
            ">>>>>>>>>>>>>>> 914\n",
            ">>>>>>>>>>>>>>> 915\n",
            ">>>>>>>>>>>>>>> 916\n",
            ">>>>>>>>>>>>>>> 917\n",
            ">>>>>>>>>>>>>>> 918\n",
            ">>>>>>>>>>>>>>> 919\n",
            ">>>>>>>>>>>>>>> 920\n",
            ">>>>>>>>>>>>>>> 921\n",
            ">>>>>>>>>>>>>>> 922\n",
            ">>>>>>>>>>>>>>> 923\n",
            ">>>>>>>>>>>>>>> 924\n",
            ">>>>>>>>>>>>>>> 925\n",
            ">>>>>>>>>>>>>>> 926\n",
            ">>>>>>>>>>>>>>> 927\n",
            ">>>>>>>>>>>>>>> 928\n",
            ">>>>>>>>>>>>>>> 929\n",
            ">>>>>>>>>>>>>>> 930\n",
            ">>>>>>>>>>>>>>> 931\n",
            ">>>>>>>>>>>>>>> 932\n",
            ">>>>>>>>>>>>>>> 933\n",
            ">>>>>>>>>>>>>>> 934\n",
            ">>>>>>>>>>>>>>> 935\n",
            ">>>>>>>>>>>>>>> 936\n",
            ">>>>>>>>>>>>>>> 937\n",
            ">>>>>>>>>>>>>>> 938\n",
            ">>>>>>>>>>>>>>> 939\n",
            ">>>>>>>>>>>>>>> 940\n",
            ">>>>>>>>>>>>>>> 941\n",
            ">>>>>>>>>>>>>>> 942\n",
            ">>>>>>>>>>>>>>> 943\n",
            ">>>>>>>>>>>>>>> 944\n",
            ">>>>>>>>>>>>>>> 945\n",
            ">>>>>>>>>>>>>>> 946\n",
            ">>>>>>>>>>>>>>> 947\n",
            ">>>>>>>>>>>>>>> 948\n",
            ">>>>>>>>>>>>>>> 949\n",
            ">>>>>>>>>>>>>>> 950\n",
            ">>>>>>>>>>>>>>> 951\n",
            ">>>>>>>>>>>>>>> 952\n",
            ">>>>>>>>>>>>>>> 953\n",
            ">>>>>>>>>>>>>>> 954\n",
            ">>>>>>>>>>>>>>> 955\n",
            ">>>>>>>>>>>>>>> 956\n",
            ">>>>>>>>>>>>>>> 957\n",
            ">>>>>>>>>>>>>>> 958\n",
            ">>>>>>>>>>>>>>> 959\n",
            ">>>>>>>>>>>>>>> 960\n",
            ">>>>>>>>>>>>>>> 961\n",
            ">>>>>>>>>>>>>>> 962\n",
            ">>>>>>>>>>>>>>> 963\n",
            ">>>>>>>>>>>>>>> 964\n",
            ">>>>>>>>>>>>>>> 965\n",
            ">>>>>>>>>>>>>>> 966\n",
            ">>>>>>>>>>>>>>> 967\n",
            ">>>>>>>>>>>>>>> 968\n",
            ">>>>>>>>>>>>>>> 969\n",
            ">>>>>>>>>>>>>>> 970\n",
            ">>>>>>>>>>>>>>> 971\n",
            ">>>>>>>>>>>>>>> 972\n",
            ">>>>>>>>>>>>>>> 973\n",
            ">>>>>>>>>>>>>>> 974\n",
            ">>>>>>>>>>>>>>> 975\n",
            ">>>>>>>>>>>>>>> 976\n",
            ">>>>>>>>>>>>>>> 977\n",
            ">>>>>>>>>>>>>>> 978\n",
            ">>>>>>>>>>>>>>> 979\n",
            ">>>>>>>>>>>>>>> 980\n",
            ">>>>>>>>>>>>>>> 981\n",
            ">>>>>>>>>>>>>>> 982\n",
            ">>>>>>>>>>>>>>> 983\n",
            ">>>>>>>>>>>>>>> 984\n",
            ">>>>>>>>>>>>>>> 985\n",
            ">>>>>>>>>>>>>>> 986\n",
            ">>>>>>>>>>>>>>> 987\n",
            ">>>>>>>>>>>>>>> 988\n",
            ">>>>>>>>>>>>>>> 989\n",
            ">>>>>>>>>>>>>>> 990\n",
            ">>>>>>>>>>>>>>> 991\n",
            ">>>>>>>>>>>>>>> 992\n",
            ">>>>>>>>>>>>>>> 993\n",
            ">>>>>>>>>>>>>>> 994\n",
            ">>>>>>>>>>>>>>> 995\n",
            ">>>>>>>>>>>>>>> 996\n",
            ">>>>>>>>>>>>>>> 997\n",
            ">>>>>>>>>>>>>>> 998\n",
            ">>>>>>>>>>>>>>> 999\n"
          ]
        },
        {
          "output_type": "stream",
          "name": "stderr",
          "text": [
            "/usr/local/lib/python3.7/dist-packages/sklearn/metrics/_regression.py:781: UndefinedMetricWarning: R^2 score is not well-defined with less than two samples.\n",
            "  warnings.warn(msg, UndefinedMetricWarning)\n"
          ]
        }
      ]
    },
    {
      "cell_type": "code",
      "metadata": {
        "id": "TsTh25SIWNW1"
      },
      "source": [
        "score_mse = pd.DataFrame(mse_lst)\n",
        "score_r2  = pd.DataFrame(r2_lst)"
      ],
      "execution_count": 24,
      "outputs": []
    },
    {
      "cell_type": "code",
      "metadata": {
        "id": "g6fCsAX0XCQT"
      },
      "source": [
        "col = [\"train\", \"test3\", \"test4\"]"
      ],
      "execution_count": 25,
      "outputs": []
    },
    {
      "cell_type": "code",
      "metadata": {
        "colab": {
          "base_uri": "https://localhost:8080/",
          "height": 423
        },
        "id": "Y7SQPOYmSuU6",
        "outputId": "4afac5b2-f9c6-4078-cd2a-ecff520b1d15"
      },
      "source": [
        "score_mse"
      ],
      "execution_count": 26,
      "outputs": [
        {
          "output_type": "execute_result",
          "data": {
            "text/html": [
              "<div>\n",
              "<style scoped>\n",
              "    .dataframe tbody tr th:only-of-type {\n",
              "        vertical-align: middle;\n",
              "    }\n",
              "\n",
              "    .dataframe tbody tr th {\n",
              "        vertical-align: top;\n",
              "    }\n",
              "\n",
              "    .dataframe thead th {\n",
              "        text-align: right;\n",
              "    }\n",
              "</style>\n",
              "<table border=\"1\" class=\"dataframe\">\n",
              "  <thead>\n",
              "    <tr style=\"text-align: right;\">\n",
              "      <th></th>\n",
              "      <th>0</th>\n",
              "      <th>1</th>\n",
              "      <th>2</th>\n",
              "    </tr>\n",
              "  </thead>\n",
              "  <tbody>\n",
              "    <tr>\n",
              "      <th>0</th>\n",
              "      <td>0.000143</td>\n",
              "      <td>0.020665</td>\n",
              "      <td>0.223485</td>\n",
              "    </tr>\n",
              "    <tr>\n",
              "      <th>1</th>\n",
              "      <td>0.000143</td>\n",
              "      <td>0.020601</td>\n",
              "      <td>0.222981</td>\n",
              "    </tr>\n",
              "    <tr>\n",
              "      <th>2</th>\n",
              "      <td>0.000143</td>\n",
              "      <td>0.020534</td>\n",
              "      <td>0.222458</td>\n",
              "    </tr>\n",
              "    <tr>\n",
              "      <th>3</th>\n",
              "      <td>0.000143</td>\n",
              "      <td>0.020475</td>\n",
              "      <td>0.221997</td>\n",
              "    </tr>\n",
              "    <tr>\n",
              "      <th>4</th>\n",
              "      <td>0.000143</td>\n",
              "      <td>0.020412</td>\n",
              "      <td>0.221502</td>\n",
              "    </tr>\n",
              "    <tr>\n",
              "      <th>...</th>\n",
              "      <td>...</td>\n",
              "      <td>...</td>\n",
              "      <td>...</td>\n",
              "    </tr>\n",
              "    <tr>\n",
              "      <th>995</th>\n",
              "      <td>0.000193</td>\n",
              "      <td>9.116737</td>\n",
              "      <td>51.150501</td>\n",
              "    </tr>\n",
              "    <tr>\n",
              "      <th>996</th>\n",
              "      <td>0.000184</td>\n",
              "      <td>14.592884</td>\n",
              "      <td>82.607386</td>\n",
              "    </tr>\n",
              "    <tr>\n",
              "      <th>997</th>\n",
              "      <td>0.000165</td>\n",
              "      <td>69.665020</td>\n",
              "      <td>401.604226</td>\n",
              "    </tr>\n",
              "    <tr>\n",
              "      <th>998</th>\n",
              "      <td>0.000164</td>\n",
              "      <td>38.349037</td>\n",
              "      <td>219.898501</td>\n",
              "    </tr>\n",
              "    <tr>\n",
              "      <th>999</th>\n",
              "      <td>0.000000</td>\n",
              "      <td>3.548814</td>\n",
              "      <td>22.166020</td>\n",
              "    </tr>\n",
              "  </tbody>\n",
              "</table>\n",
              "<p>1000 rows × 3 columns</p>\n",
              "</div>"
            ],
            "text/plain": [
              "            0          1           2\n",
              "0    0.000143   0.020665    0.223485\n",
              "1    0.000143   0.020601    0.222981\n",
              "2    0.000143   0.020534    0.222458\n",
              "3    0.000143   0.020475    0.221997\n",
              "4    0.000143   0.020412    0.221502\n",
              "..        ...        ...         ...\n",
              "995  0.000193   9.116737   51.150501\n",
              "996  0.000184  14.592884   82.607386\n",
              "997  0.000165  69.665020  401.604226\n",
              "998  0.000164  38.349037  219.898501\n",
              "999  0.000000   3.548814   22.166020\n",
              "\n",
              "[1000 rows x 3 columns]"
            ]
          },
          "metadata": {},
          "execution_count": 26
        }
      ]
    },
    {
      "cell_type": "code",
      "metadata": {
        "id": "cQqbmplAXJ7g"
      },
      "source": [
        "score_mse.columns= col\n",
        "score_r2.columns = col\n",
        "\n",
        "score_r2[\"bin\"]= score_r2.index\n",
        "score_mse[\"bin\"]= score_mse.index\n",
        "\n"
      ],
      "execution_count": 27,
      "outputs": []
    },
    {
      "cell_type": "code",
      "metadata": {
        "colab": {
          "base_uri": "https://localhost:8080/",
          "height": 423
        },
        "id": "EMbvg-lOPOBI",
        "outputId": "0fa322a7-6ed7-4d82-aa6c-1fcb9ab5af22"
      },
      "source": [
        "score_r2"
      ],
      "execution_count": 28,
      "outputs": [
        {
          "output_type": "execute_result",
          "data": {
            "text/html": [
              "<div>\n",
              "<style scoped>\n",
              "    .dataframe tbody tr th:only-of-type {\n",
              "        vertical-align: middle;\n",
              "    }\n",
              "\n",
              "    .dataframe tbody tr th {\n",
              "        vertical-align: top;\n",
              "    }\n",
              "\n",
              "    .dataframe thead th {\n",
              "        text-align: right;\n",
              "    }\n",
              "</style>\n",
              "<table border=\"1\" class=\"dataframe\">\n",
              "  <thead>\n",
              "    <tr style=\"text-align: right;\">\n",
              "      <th></th>\n",
              "      <th>train</th>\n",
              "      <th>test3</th>\n",
              "      <th>test4</th>\n",
              "      <th>bin</th>\n",
              "    </tr>\n",
              "  </thead>\n",
              "  <tbody>\n",
              "    <tr>\n",
              "      <th>0</th>\n",
              "      <td>0.997592</td>\n",
              "      <td>0.928413</td>\n",
              "      <td>0.315684</td>\n",
              "      <td>0</td>\n",
              "    </tr>\n",
              "    <tr>\n",
              "      <th>1</th>\n",
              "      <td>0.997590</td>\n",
              "      <td>0.928636</td>\n",
              "      <td>0.317226</td>\n",
              "      <td>1</td>\n",
              "    </tr>\n",
              "    <tr>\n",
              "      <th>2</th>\n",
              "      <td>0.997587</td>\n",
              "      <td>0.928867</td>\n",
              "      <td>0.318827</td>\n",
              "      <td>2</td>\n",
              "    </tr>\n",
              "    <tr>\n",
              "      <th>3</th>\n",
              "      <td>0.997584</td>\n",
              "      <td>0.929071</td>\n",
              "      <td>0.320241</td>\n",
              "      <td>3</td>\n",
              "    </tr>\n",
              "    <tr>\n",
              "      <th>4</th>\n",
              "      <td>0.997581</td>\n",
              "      <td>0.929289</td>\n",
              "      <td>0.321756</td>\n",
              "      <td>4</td>\n",
              "    </tr>\n",
              "    <tr>\n",
              "      <th>...</th>\n",
              "      <td>...</td>\n",
              "      <td>...</td>\n",
              "      <td>...</td>\n",
              "      <td>...</td>\n",
              "    </tr>\n",
              "    <tr>\n",
              "      <th>995</th>\n",
              "      <td>0.033971</td>\n",
              "      <td>-30.581876</td>\n",
              "      <td>-155.624133</td>\n",
              "      <td>995</td>\n",
              "    </tr>\n",
              "    <tr>\n",
              "      <th>996</th>\n",
              "      <td>0.028520</td>\n",
              "      <td>-49.552148</td>\n",
              "      <td>-251.945915</td>\n",
              "      <td>996</td>\n",
              "    </tr>\n",
              "    <tr>\n",
              "      <th>997</th>\n",
              "      <td>0.041484</td>\n",
              "      <td>-240.331071</td>\n",
              "      <td>-1228.722347</td>\n",
              "      <td>997</td>\n",
              "    </tr>\n",
              "    <tr>\n",
              "      <th>998</th>\n",
              "      <td>0.005991</td>\n",
              "      <td>-131.847363</td>\n",
              "      <td>-672.334799</td>\n",
              "      <td>998</td>\n",
              "    </tr>\n",
              "    <tr>\n",
              "      <th>999</th>\n",
              "      <td>NaN</td>\n",
              "      <td>-11.293675</td>\n",
              "      <td>-66.872916</td>\n",
              "      <td>999</td>\n",
              "    </tr>\n",
              "  </tbody>\n",
              "</table>\n",
              "<p>1000 rows × 4 columns</p>\n",
              "</div>"
            ],
            "text/plain": [
              "        train       test3        test4  bin\n",
              "0    0.997592    0.928413     0.315684    0\n",
              "1    0.997590    0.928636     0.317226    1\n",
              "2    0.997587    0.928867     0.318827    2\n",
              "3    0.997584    0.929071     0.320241    3\n",
              "4    0.997581    0.929289     0.321756    4\n",
              "..        ...         ...          ...  ...\n",
              "995  0.033971  -30.581876  -155.624133  995\n",
              "996  0.028520  -49.552148  -251.945915  996\n",
              "997  0.041484 -240.331071 -1228.722347  997\n",
              "998  0.005991 -131.847363  -672.334799  998\n",
              "999       NaN  -11.293675   -66.872916  999\n",
              "\n",
              "[1000 rows x 4 columns]"
            ]
          },
          "metadata": {},
          "execution_count": 28
        }
      ]
    },
    {
      "cell_type": "markdown",
      "metadata": {
        "id": "iiwtv0kGDl-b"
      },
      "source": [
        "* Loại bỏ giá trị âm"
      ]
    },
    {
      "cell_type": "code",
      "metadata": {
        "id": "nxgkWpZ5Dw4P"
      },
      "source": [
        "score_r2 = score_r2[score_r2[\"test3\"] > 0]"
      ],
      "execution_count": 29,
      "outputs": []
    },
    {
      "cell_type": "code",
      "metadata": {
        "id": "x_Fte8cbEGf4"
      },
      "source": [
        "score_r2 = score_r2[score_r2[\"test4\"] > 0]"
      ],
      "execution_count": 30,
      "outputs": []
    },
    {
      "cell_type": "markdown",
      "metadata": {
        "id": "hO_P6tgeZZcx"
      },
      "source": [
        "#### Trực quan kết quả"
      ]
    },
    {
      "cell_type": "code",
      "metadata": {
        "colab": {
          "base_uri": "https://localhost:8080/",
          "height": 265
        },
        "id": "YTgJjy4YZg49",
        "outputId": "4d9bc181-fa2c-4df0-e01d-135f4d20db86"
      },
      "source": [
        "plt.plot( 'bin', 'train', data=score_r2, marker='', color='blue', linewidth=2)\n",
        "plt.plot( 'bin', 'test3', data=score_r2, marker='', color='red', linewidth=2)\n",
        "plt.plot( 'bin', 'test4', data=score_r2, marker='', color='green', linewidth=2)\n",
        "\n",
        "# show legend\n",
        "plt.legend()\n",
        "\n",
        "# show graph\n",
        "plt.show()"
      ],
      "execution_count": 31,
      "outputs": [
        {
          "output_type": "display_data",
          "data": {
            "image/png": "[encoded data removed]",
            "text/plain": [
              "<Figure size 432x288 with 1 Axes>"
            ]
          },
          "metadata": {
            "needs_background": "light"
          }
        }
      ]
    },
    {
      "cell_type": "markdown",
      "metadata": {
        "id": "kfUEzmcSIG8f"
      },
      "source": [
        "* Ở đây ta có thể thấy 2 điểm giao nhau giữa train với test3 và train với test4. Chúng chọn ngưỡng bằng với giá trị bin tại điểm giao giữa train và test3 thay vì train và test4 vì, ở đây R^2_Score của train chưa lao dốc và R^2_Score của 2 tập test thì đang tăng.\n",
        "* Lý do thứ 2 để không chọn điểm giao nhau giữa train và test4 là vì khi đó giá trị là rất lớn gây ra việc bộ dữ liệu được loại bỏ còn lại sẽ rất nhỏ. \n",
        "![image.png](data:image/png;base64,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)"
      ]
    },
    {
      "cell_type": "code",
      "metadata": {
        "colab": {
          "base_uri": "https://localhost:8080/",
          "height": 265
        },
        "id": "Vt3vAFzZLdLK",
        "outputId": "6b88bb76-f00f-47dc-83d6-45d8d8a93f59"
      },
      "source": [
        "score_r2_2  =score_r2[score_r2[\"bin\"]>=600]\n",
        "\n",
        "plt.plot( 'bin', 'train', data=score_r2_2, marker='', color='blue', linewidth=2)\n",
        "plt.plot( 'bin', 'test3', data=score_r2_2, marker='', color='red', linewidth=2)\n",
        "plt.plot( 'bin', 'test4', data=score_r2_2, marker='', color='green', linewidth=2)\n",
        "\n",
        "# show legend\n",
        "plt.legend()\n",
        "\n",
        "# show graph\n",
        "plt.show()"
      ],
      "execution_count": 32,
      "outputs": [
        {
          "output_type": "display_data",
          "data": {
            "image/png": "[encoded data removed]",
            "text/plain": [
              "<Figure size 432x288 with 1 Axes>"
            ]
          },
          "metadata": {
            "needs_background": "light"
          }
        }
      ]
    },
    {
      "cell_type": "code",
      "metadata": {
        "colab": {
          "base_uri": "https://localhost:8080/",
          "height": 1000
        },
        "id": "NNn5_xJaLdNk",
        "outputId": "90be6961-d587-47a1-ebe2-2503da3d239c"
      },
      "source": [
        "#check again\n",
        "score_r2_2  =score_r2_2[score_r2_2[\"bin\"]<=650]\n",
        "score_r2_2"
      ],
      "execution_count": 33,
      "outputs": [
        {
          "output_type": "execute_result",
          "data": {
            "text/html": [
              "<div>\n",
              "<style scoped>\n",
              "    .dataframe tbody tr th:only-of-type {\n",
              "        vertical-align: middle;\n",
              "    }\n",
              "\n",
              "    .dataframe tbody tr th {\n",
              "        vertical-align: top;\n",
              "    }\n",
              "\n",
              "    .dataframe thead th {\n",
              "        text-align: right;\n",
              "    }\n",
              "</style>\n",
              "<table border=\"1\" class=\"dataframe\">\n",
              "  <thead>\n",
              "    <tr style=\"text-align: right;\">\n",
              "      <th></th>\n",
              "      <th>train</th>\n",
              "      <th>test3</th>\n",
              "      <th>test4</th>\n",
              "      <th>bin</th>\n",
              "    </tr>\n",
              "  </thead>\n",
              "  <tbody>\n",
              "    <tr>\n",
              "      <th>600</th>\n",
              "      <td>0.977461</td>\n",
              "      <td>0.974174</td>\n",
              "      <td>0.678467</td>\n",
              "      <td>600</td>\n",
              "    </tr>\n",
              "    <tr>\n",
              "      <th>601</th>\n",
              "      <td>0.977286</td>\n",
              "      <td>0.974159</td>\n",
              "      <td>0.678314</td>\n",
              "      <td>601</td>\n",
              "    </tr>\n",
              "    <tr>\n",
              "      <th>602</th>\n",
              "      <td>0.977163</td>\n",
              "      <td>0.974203</td>\n",
              "      <td>0.678760</td>\n",
              "      <td>602</td>\n",
              "    </tr>\n",
              "    <tr>\n",
              "      <th>603</th>\n",
              "      <td>0.977027</td>\n",
              "      <td>0.974224</td>\n",
              "      <td>0.678970</td>\n",
              "      <td>603</td>\n",
              "    </tr>\n",
              "    <tr>\n",
              "      <th>604</th>\n",
              "      <td>0.976940</td>\n",
              "      <td>0.974284</td>\n",
              "      <td>0.679573</td>\n",
              "      <td>604</td>\n",
              "    </tr>\n",
              "    <tr>\n",
              "      <th>605</th>\n",
              "      <td>0.976779</td>\n",
              "      <td>0.974294</td>\n",
              "      <td>0.679673</td>\n",
              "      <td>605</td>\n",
              "    </tr>\n",
              "    <tr>\n",
              "      <th>606</th>\n",
              "      <td>0.976648</td>\n",
              "      <td>0.974329</td>\n",
              "      <td>0.680023</td>\n",
              "      <td>606</td>\n",
              "    </tr>\n",
              "    <tr>\n",
              "      <th>607</th>\n",
              "      <td>0.976517</td>\n",
              "      <td>0.974356</td>\n",
              "      <td>0.680296</td>\n",
              "      <td>607</td>\n",
              "    </tr>\n",
              "    <tr>\n",
              "      <th>608</th>\n",
              "      <td>0.976388</td>\n",
              "      <td>0.974363</td>\n",
              "      <td>0.680368</td>\n",
              "      <td>608</td>\n",
              "    </tr>\n",
              "    <tr>\n",
              "      <th>609</th>\n",
              "      <td>0.976196</td>\n",
              "      <td>0.974353</td>\n",
              "      <td>0.680265</td>\n",
              "      <td>609</td>\n",
              "    </tr>\n",
              "    <tr>\n",
              "      <th>610</th>\n",
              "      <td>0.976060</td>\n",
              "      <td>0.974372</td>\n",
              "      <td>0.680460</td>\n",
              "      <td>610</td>\n",
              "    </tr>\n",
              "    <tr>\n",
              "      <th>611</th>\n",
              "      <td>0.975901</td>\n",
              "      <td>0.974383</td>\n",
              "      <td>0.680570</td>\n",
              "      <td>611</td>\n",
              "    </tr>\n",
              "    <tr>\n",
              "      <th>612</th>\n",
              "      <td>0.975761</td>\n",
              "      <td>0.974448</td>\n",
              "      <td>0.681222</td>\n",
              "      <td>612</td>\n",
              "    </tr>\n",
              "    <tr>\n",
              "      <th>613</th>\n",
              "      <td>0.975586</td>\n",
              "      <td>0.974521</td>\n",
              "      <td>0.681959</td>\n",
              "      <td>613</td>\n",
              "    </tr>\n",
              "    <tr>\n",
              "      <th>614</th>\n",
              "      <td>0.975391</td>\n",
              "      <td>0.974529</td>\n",
              "      <td>0.682039</td>\n",
              "      <td>614</td>\n",
              "    </tr>\n",
              "    <tr>\n",
              "      <th>615</th>\n",
              "      <td>0.975214</td>\n",
              "      <td>0.974576</td>\n",
              "      <td>0.682521</td>\n",
              "      <td>615</td>\n",
              "    </tr>\n",
              "    <tr>\n",
              "      <th>616</th>\n",
              "      <td>0.975086</td>\n",
              "      <td>0.974685</td>\n",
              "      <td>0.683622</td>\n",
              "      <td>616</td>\n",
              "    </tr>\n",
              "    <tr>\n",
              "      <th>617</th>\n",
              "      <td>0.974930</td>\n",
              "      <td>0.974774</td>\n",
              "      <td>0.684524</td>\n",
              "      <td>617</td>\n",
              "    </tr>\n",
              "    <tr>\n",
              "      <th>618</th>\n",
              "      <td>0.974736</td>\n",
              "      <td>0.974807</td>\n",
              "      <td>0.684866</td>\n",
              "      <td>618</td>\n",
              "    </tr>\n",
              "    <tr>\n",
              "      <th>619</th>\n",
              "      <td>0.974569</td>\n",
              "      <td>0.974786</td>\n",
              "      <td>0.684644</td>\n",
              "      <td>619</td>\n",
              "    </tr>\n",
              "    <tr>\n",
              "      <th>620</th>\n",
              "      <td>0.974384</td>\n",
              "      <td>0.974778</td>\n",
              "      <td>0.684568</td>\n",
              "      <td>620</td>\n",
              "    </tr>\n",
              "    <tr>\n",
              "      <th>621</th>\n",
              "      <td>0.974219</td>\n",
              "      <td>0.974860</td>\n",
              "      <td>0.685402</td>\n",
              "      <td>621</td>\n",
              "    </tr>\n",
              "    <tr>\n",
              "      <th>622</th>\n",
              "      <td>0.974093</td>\n",
              "      <td>0.974886</td>\n",
              "      <td>0.685664</td>\n",
              "      <td>622</td>\n",
              "    </tr>\n",
              "    <tr>\n",
              "      <th>623</th>\n",
              "      <td>0.973914</td>\n",
              "      <td>0.974892</td>\n",
              "      <td>0.685728</td>\n",
              "      <td>623</td>\n",
              "    </tr>\n",
              "    <tr>\n",
              "      <th>624</th>\n",
              "      <td>0.973716</td>\n",
              "      <td>0.974828</td>\n",
              "      <td>0.685071</td>\n",
              "      <td>624</td>\n",
              "    </tr>\n",
              "    <tr>\n",
              "      <th>625</th>\n",
              "      <td>0.973608</td>\n",
              "      <td>0.974923</td>\n",
              "      <td>0.686043</td>\n",
              "      <td>625</td>\n",
              "    </tr>\n",
              "    <tr>\n",
              "      <th>626</th>\n",
              "      <td>0.973472</td>\n",
              "      <td>0.974953</td>\n",
              "      <td>0.686353</td>\n",
              "      <td>626</td>\n",
              "    </tr>\n",
              "    <tr>\n",
              "      <th>627</th>\n",
              "      <td>0.973348</td>\n",
              "      <td>0.975053</td>\n",
              "      <td>0.687375</td>\n",
              "      <td>627</td>\n",
              "    </tr>\n",
              "    <tr>\n",
              "      <th>628</th>\n",
              "      <td>0.973168</td>\n",
              "      <td>0.974966</td>\n",
              "      <td>0.686484</td>\n",
              "      <td>628</td>\n",
              "    </tr>\n",
              "    <tr>\n",
              "      <th>629</th>\n",
              "      <td>0.973027</td>\n",
              "      <td>0.975024</td>\n",
              "      <td>0.687071</td>\n",
              "      <td>629</td>\n",
              "    </tr>\n",
              "    <tr>\n",
              "      <th>630</th>\n",
              "      <td>0.972880</td>\n",
              "      <td>0.975085</td>\n",
              "      <td>0.687695</td>\n",
              "      <td>630</td>\n",
              "    </tr>\n",
              "    <tr>\n",
              "      <th>631</th>\n",
              "      <td>0.972712</td>\n",
              "      <td>0.975089</td>\n",
              "      <td>0.687741</td>\n",
              "      <td>631</td>\n",
              "    </tr>\n",
              "    <tr>\n",
              "      <th>632</th>\n",
              "      <td>0.972584</td>\n",
              "      <td>0.975225</td>\n",
              "      <td>0.689132</td>\n",
              "      <td>632</td>\n",
              "    </tr>\n",
              "    <tr>\n",
              "      <th>633</th>\n",
              "      <td>0.972347</td>\n",
              "      <td>0.975091</td>\n",
              "      <td>0.687759</td>\n",
              "      <td>633</td>\n",
              "    </tr>\n",
              "    <tr>\n",
              "      <th>634</th>\n",
              "      <td>0.972208</td>\n",
              "      <td>0.975220</td>\n",
              "      <td>0.689082</td>\n",
              "      <td>634</td>\n",
              "    </tr>\n",
              "    <tr>\n",
              "      <th>635</th>\n",
              "      <td>0.971999</td>\n",
              "      <td>0.975227</td>\n",
              "      <td>0.689153</td>\n",
              "      <td>635</td>\n",
              "    </tr>\n",
              "    <tr>\n",
              "      <th>636</th>\n",
              "      <td>0.971823</td>\n",
              "      <td>0.975276</td>\n",
              "      <td>0.689665</td>\n",
              "      <td>636</td>\n",
              "    </tr>\n",
              "    <tr>\n",
              "      <th>637</th>\n",
              "      <td>0.971631</td>\n",
              "      <td>0.975271</td>\n",
              "      <td>0.689608</td>\n",
              "      <td>637</td>\n",
              "    </tr>\n",
              "    <tr>\n",
              "      <th>638</th>\n",
              "      <td>0.971415</td>\n",
              "      <td>0.975147</td>\n",
              "      <td>0.688336</td>\n",
              "      <td>638</td>\n",
              "    </tr>\n",
              "    <tr>\n",
              "      <th>639</th>\n",
              "      <td>0.971192</td>\n",
              "      <td>0.975196</td>\n",
              "      <td>0.688837</td>\n",
              "      <td>639</td>\n",
              "    </tr>\n",
              "    <tr>\n",
              "      <th>640</th>\n",
              "      <td>0.971007</td>\n",
              "      <td>0.975242</td>\n",
              "      <td>0.689311</td>\n",
              "      <td>640</td>\n",
              "    </tr>\n",
              "    <tr>\n",
              "      <th>641</th>\n",
              "      <td>0.970764</td>\n",
              "      <td>0.975249</td>\n",
              "      <td>0.689383</td>\n",
              "      <td>641</td>\n",
              "    </tr>\n",
              "    <tr>\n",
              "      <th>642</th>\n",
              "      <td>0.970560</td>\n",
              "      <td>0.975270</td>\n",
              "      <td>0.689596</td>\n",
              "      <td>642</td>\n",
              "    </tr>\n",
              "    <tr>\n",
              "      <th>643</th>\n",
              "      <td>0.970370</td>\n",
              "      <td>0.975303</td>\n",
              "      <td>0.689942</td>\n",
              "      <td>643</td>\n",
              "    </tr>\n",
              "    <tr>\n",
              "      <th>644</th>\n",
              "      <td>0.970164</td>\n",
              "      <td>0.975330</td>\n",
              "      <td>0.690215</td>\n",
              "      <td>644</td>\n",
              "    </tr>\n",
              "    <tr>\n",
              "      <th>645</th>\n",
              "      <td>0.969996</td>\n",
              "      <td>0.975368</td>\n",
              "      <td>0.690604</td>\n",
              "      <td>645</td>\n",
              "    </tr>\n",
              "    <tr>\n",
              "      <th>646</th>\n",
              "      <td>0.969875</td>\n",
              "      <td>0.975468</td>\n",
              "      <td>0.691641</td>\n",
              "      <td>646</td>\n",
              "    </tr>\n",
              "    <tr>\n",
              "      <th>647</th>\n",
              "      <td>0.969750</td>\n",
              "      <td>0.975516</td>\n",
              "      <td>0.692133</td>\n",
              "      <td>647</td>\n",
              "    </tr>\n",
              "    <tr>\n",
              "      <th>648</th>\n",
              "      <td>0.969548</td>\n",
              "      <td>0.975573</td>\n",
              "      <td>0.692726</td>\n",
              "      <td>648</td>\n",
              "    </tr>\n",
              "    <tr>\n",
              "      <th>649</th>\n",
              "      <td>0.969373</td>\n",
              "      <td>0.975742</td>\n",
              "      <td>0.694482</td>\n",
              "      <td>649</td>\n",
              "    </tr>\n",
              "    <tr>\n",
              "      <th>650</th>\n",
              "      <td>0.969160</td>\n",
              "      <td>0.975757</td>\n",
              "      <td>0.694638</td>\n",
              "      <td>650</td>\n",
              "    </tr>\n",
              "  </tbody>\n",
              "</table>\n",
              "</div>"
            ],
            "text/plain": [
              "        train     test3     test4  bin\n",
              "600  0.977461  0.974174  0.678467  600\n",
              "601  0.977286  0.974159  0.678314  601\n",
              "602  0.977163  0.974203  0.678760  602\n",
              "603  0.977027  0.974224  0.678970  603\n",
              "604  0.976940  0.974284  0.679573  604\n",
              "605  0.976779  0.974294  0.679673  605\n",
              "606  0.976648  0.974329  0.680023  606\n",
              "607  0.976517  0.974356  0.680296  607\n",
              "608  0.976388  0.974363  0.680368  608\n",
              "609  0.976196  0.974353  0.680265  609\n",
              "610  0.976060  0.974372  0.680460  610\n",
              "611  0.975901  0.974383  0.680570  611\n",
              "612  0.975761  0.974448  0.681222  612\n",
              "613  0.975586  0.974521  0.681959  613\n",
              "614  0.975391  0.974529  0.682039  614\n",
              "615  0.975214  0.974576  0.682521  615\n",
              "616  0.975086  0.974685  0.683622  616\n",
              "617  0.974930  0.974774  0.684524  617\n",
              "618  0.974736  0.974807  0.684866  618\n",
              "619  0.974569  0.974786  0.684644  619\n",
              "620  0.974384  0.974778  0.684568  620\n",
              "621  0.974219  0.974860  0.685402  621\n",
              "622  0.974093  0.974886  0.685664  622\n",
              "623  0.973914  0.974892  0.685728  623\n",
              "624  0.973716  0.974828  0.685071  624\n",
              "625  0.973608  0.974923  0.686043  625\n",
              "626  0.973472  0.974953  0.686353  626\n",
              "627  0.973348  0.975053  0.687375  627\n",
              "628  0.973168  0.974966  0.686484  628\n",
              "629  0.973027  0.975024  0.687071  629\n",
              "630  0.972880  0.975085  0.687695  630\n",
              "631  0.972712  0.975089  0.687741  631\n",
              "632  0.972584  0.975225  0.689132  632\n",
              "633  0.972347  0.975091  0.687759  633\n",
              "634  0.972208  0.975220  0.689082  634\n",
              "635  0.971999  0.975227  0.689153  635\n",
              "636  0.971823  0.975276  0.689665  636\n",
              "637  0.971631  0.975271  0.689608  637\n",
              "638  0.971415  0.975147  0.688336  638\n",
              "639  0.971192  0.975196  0.688837  639\n",
              "640  0.971007  0.975242  0.689311  640\n",
              "641  0.970764  0.975249  0.689383  641\n",
              "642  0.970560  0.975270  0.689596  642\n",
              "643  0.970370  0.975303  0.689942  643\n",
              "644  0.970164  0.975330  0.690215  644\n",
              "645  0.969996  0.975368  0.690604  645\n",
              "646  0.969875  0.975468  0.691641  646\n",
              "647  0.969750  0.975516  0.692133  647\n",
              "648  0.969548  0.975573  0.692726  648\n",
              "649  0.969373  0.975742  0.694482  649\n",
              "650  0.969160  0.975757  0.694638  650"
            ]
          },
          "metadata": {},
          "execution_count": 33
        }
      ]
    },
    {
      "cell_type": "code",
      "metadata": {
        "id": "QKwcTvK3T8nj"
      },
      "source": [
        "mini_range = _lst_size[620]"
      ],
      "execution_count": 34,
      "outputs": []
    },
    {
      "cell_type": "code",
      "metadata": {
        "colab": {
          "base_uri": "https://localhost:8080/"
        },
        "id": "RSXegMWDVI3N",
        "outputId": "2ea55764-c763-47ad-c8a5-1de233a32308"
      },
      "source": [
        "mini_range"
      ],
      "execution_count": 35,
      "outputs": [
        {
          "output_type": "execute_result",
          "data": {
            "text/plain": [
              "6206229.714714714"
            ]
          },
          "metadata": {},
          "execution_count": 35
        }
      ]
    },
    {
      "cell_type": "markdown",
      "metadata": {
        "id": "GSqrQA29VTpD"
      },
      "source": [
        "=> Dựa vào những bước thực nghiệm phái trên, chúng em loại bỏ dữ liệu train có giá trị của feature \"size\" < 6206229.714714714 (mini_range)\n"
      ]
    },
    {
      "cell_type": "markdown",
      "metadata": {
        "id": "6Nz3767rbfsT"
      },
      "source": [
        "####Kết quả sau khi giảm dữ liệu"
      ]
    },
    {
      "cell_type": "code",
      "metadata": {
        "id": "BMQElBdFeMJt"
      },
      "source": [
        "#print score\n",
        "def print_score(y, y_pred, name):\n",
        "  _mse = mean_squared_error(y, y_pred)\n",
        "  print(\"mse_\"+name+\"= \", _mse)\n",
        "  print(\"rmse_\"+name+\"= \", sqrt(_mse))\n",
        "\n",
        "  _r2= r2_score(y, y_pred)\n",
        "  print(\"r2_score_\"+name+\"= \", _r2)\n"
      ],
      "execution_count": 36,
      "outputs": []
    },
    {
      "cell_type": "code",
      "metadata": {
        "colab": {
          "base_uri": "https://localhost:8080/"
        },
        "id": "ExCnS976brdk",
        "outputId": "9e784ab3-1988-407f-d321-23dc9a21f429"
      },
      "source": [
        "after_train = train[train[\"size\"] >= mini_range]\n",
        "\n",
        "print(\"Ti le du lieu sau khi loai bo so voi du lieu goc:\", len(after_train) *100/ len(train), \"%\" )"
      ],
      "execution_count": 37,
      "outputs": [
        {
          "output_type": "stream",
          "name": "stdout",
          "text": [
            "Ti le du lieu sau khi loai bo so voi du lieu goc: 37.8907403501371 %\n"
          ]
        }
      ]
    },
    {
      "cell_type": "code",
      "metadata": {
        "id": "5bYOBtIdcmlz"
      },
      "source": [
        "_x_train = np.array(after_train[\"size\"]).reshape(-1,1)\n",
        "_y_train = np.array(after_train[\"time\"]).reshape(-1,1)"
      ],
      "execution_count": 38,
      "outputs": []
    },
    {
      "cell_type": "markdown",
      "metadata": {
        "id": "6i9EtfMTfNpA"
      },
      "source": [
        "* train"
      ]
    },
    {
      "cell_type": "code",
      "metadata": {
        "colab": {
          "base_uri": "https://localhost:8080/"
        },
        "id": "wP041JLDcHUv",
        "outputId": "c8ed894c-1dee-4448-ed09-f1ad4646bc1e"
      },
      "source": [
        "_lr = LinearRegression()\n",
        "lr_model = _lr.fit(_x_train, _y_train)\n",
        "_y_pred_train= lr_model.predict(_x_train)\n",
        "\n",
        "print_score(_y_train, _y_pred_train,name = \"train\")"
      ],
      "execution_count": 39,
      "outputs": [
        {
          "output_type": "stream",
          "name": "stdout",
          "text": [
            "mse_train=  0.00024139123455737554\n",
            "rmse_train=  0.015536770403059175\n",
            "r2_score_train=  0.9743836196739416\n"
          ]
        }
      ]
    },
    {
      "cell_type": "markdown",
      "metadata": {
        "id": "wf_OCumifS1F"
      },
      "source": [
        "* test 3"
      ]
    },
    {
      "cell_type": "code",
      "metadata": {
        "colab": {
          "base_uri": "https://localhost:8080/"
        },
        "id": "VUTMnpmXcNxI",
        "outputId": "88d9b878-5583-4b00-f798-d097fb144baa"
      },
      "source": [
        "_y_test3_pred= lr_model.predict(x_test3)\n",
        "\n",
        "print_score(y_test3, _y_test3_pred, name = \"test3\")"
      ],
      "execution_count": 40,
      "outputs": [
        {
          "output_type": "stream",
          "name": "stdout",
          "text": [
            "mse_test3=  0.007280807202570575\n",
            "rmse_test3=  0.08532764617971467\n",
            "r2_score_test3=  0.974778087895266\n"
          ]
        }
      ]
    },
    {
      "cell_type": "markdown",
      "metadata": {
        "id": "XpaNSpR9fw2v"
      },
      "source": [
        "* test 4"
      ]
    },
    {
      "cell_type": "code",
      "metadata": {
        "colab": {
          "base_uri": "https://localhost:8080/"
        },
        "id": "eCM3ipfWf0Sz",
        "outputId": "d7ca1796-0daf-4d33-9823-efe665ff1e9e"
      },
      "source": [
        "_y_test4_pred= lr_model.predict(x_test4)\n",
        "\n",
        "print_score(y_test4, _y_test4_pred, name = \"test4\")"
      ],
      "execution_count": 41,
      "outputs": [
        {
          "output_type": "stream",
          "name": "stdout",
          "text": [
            "mse_test4=  0.10301423421513381\n",
            "rmse_test4=  0.32095830603854736\n",
            "r2_score_test4=  0.6845677969807341\n"
          ]
        }
      ]
    },
    {
      "cell_type": "code",
      "metadata": {
        "colab": {
          "base_uri": "https://localhost:8080/",
          "height": 403
        },
        "id": "84G1sO_Yf8wT",
        "outputId": "74c5e087-e140-4211-fdff-4e3a1eac4360"
      },
      "source": [
        "fig, ax = plt.subplots(1, 3, figsize=(16, 6))\n",
        "\n",
        "ax[0].scatter((_x_train), _y_train)\n",
        "ax[0].scatter((_x_train), lr_model.predict(_x_train), c='r')\n",
        "ax[0].set_title('Train Predict - Score: {}'.format(lr_model.score(_x_train,_y_train)))\n",
        "\n",
        "ax[1].scatter((x_test3), y_test3)\n",
        "ax[1].scatter((x_test3), lr_model.predict(x_test3), c='r')\n",
        "ax[1].set_title('Test3 Predict - Score: {}'.format(lr_model.score(x_test3,y_test3)))\n",
        "\n",
        "ax[2].scatter((x_test4), y_test4)\n",
        "ax[2].scatter((x_test4), lr_model.predict(x_test4), c='r')\n",
        "ax[2].set_title('Test4 Predict - Score: {}'.format(lr_model.score(x_test4,y_test4)))\n",
        "\n",
        "plt.show()"
      ],
      "execution_count": 42,
      "outputs": [
        {
          "output_type": "display_data",
          "data": {
            "image/png": "[encoded data removed]",
            "text/plain": [
              "<Figure size 1152x432 with 3 Axes>"
            ]
          },
          "metadata": {
            "needs_background": "light"
          }
        }
      ]
    },
    {
      "cell_type": "markdown",
      "metadata": {
        "id": "rNBPNnOtr1Bo"
      },
      "source": [
        "* Bảng so sánh giữa hai mô hình Simple LinearRegression trên tập dữ liệu ban đầu và tập dữ liệu mới sau khi loại bỏ bớt dữ liệu.\n",
        "\n",
        "![image.png](data:image/png;base64,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)"
      ]
    },
    {
      "cell_type": "markdown",
      "metadata": {
        "id": "RCpipI6UWiq_"
      },
      "source": [
        "* Dựa vào bảng đánh giá ở trên ta có thể nhận thấy bộ dữ liệu train sau khi loại bỏ bớt dữ liệu cho kết quả tốt hơn trên 2 tập test3, test4 so với bộ dữu liệu train ban đầu."
      ]
    },
    {
      "cell_type": "markdown",
      "metadata": {
        "id": "SbKwYdnTjkoN"
      },
      "source": [
        "###  Sử dụng các hàm độ phức tạp "
      ]
    },
    {
      "cell_type": "markdown",
      "metadata": {
        "id": "hLF2Zm8tsUPt"
      },
      "source": [
        "y = 𝞱_1 x + 𝞱_2x^2 + 𝞱_3*log(x) +𝞱_4*x*log(x) + 𝞱_5*sqrt(x) + 𝞱_0"
      ]
    },
    {
      "cell_type": "code",
      "metadata": {
        "id": "9wmhq_LslgtW"
      },
      "source": [
        "_lst_variables = [\"x\", \"x2\", 'logx', \"xlogx\", \"sqrtx\"]"
      ],
      "execution_count": 43,
      "outputs": []
    },
    {
      "cell_type": "code",
      "metadata": {
        "id": "qmjuZuITqDe0"
      },
      "source": [
        "#train = train[[\"x\", \"y\"]]"
      ],
      "execution_count": 44,
      "outputs": []
    },
    {
      "cell_type": "code",
      "metadata": {
        "id": "xq6YCD0cl2TD"
      },
      "source": [
        "def create_new_data(train): \n",
        "  train.columns = [\"x\", \"y\"]\n",
        "  train[\"x2\"] = train[\"x\"] * train[\"x\"]\n",
        "  train[\"logx\"] = log(train[\"x\"])\n",
        "  train[\"xlogx\"] = train[\"x\"] * log(train[\"x\"])\n",
        "  train[\"sqrtx\"] = (train[\"x\"]) **1/2\n",
        "  return train"
      ],
      "execution_count": 45,
      "outputs": []
    },
    {
      "cell_type": "code",
      "metadata": {
        "id": "VMNgjoLn-RWN",
        "colab": {
          "base_uri": "https://localhost:8080/",
          "height": 35
        },
        "outputId": "4d0810cb-a15f-4c9f-9374-f373a3877b4c"
      },
      "source": [
        "'''train = train[[\"x\", \"y\"]]\n",
        "\n",
        "test3 = test3[[\"x\", \"y\"]]\n",
        "\n",
        "test4 = test4[[\"x\", \"y\"]]\n",
        "\n",
        "after_train =after_train[[\"x\", \"y\"]]'''"
      ],
      "execution_count": 46,
      "outputs": [
        {
          "output_type": "execute_result",
          "data": {
            "application/vnd.google.colaboratory.intrinsic+json": {
              "type": "string"
            },
            "text/plain": [
              "'train = train[[\"x\", \"y\"]]\\n\\ntest3 = test3[[\"x\", \"y\"]]\\n\\ntest4 = test4[[\"x\", \"y\"]]\\n\\nafter_train =after_train[[\"x\", \"y\"]]'"
            ]
          },
          "metadata": {},
          "execution_count": 46
        }
      ]
    },
    {
      "cell_type": "code",
      "metadata": {
        "colab": {
          "base_uri": "https://localhost:8080/"
        },
        "id": "G8juvVx6mHjk",
        "outputId": "c2210e28-3ce4-4568-8265-abc0cc5cabdc"
      },
      "source": [
        "train = create_new_data(train)\n",
        "\n",
        "test3 = create_new_data(test3)\n",
        "\n",
        "test4 = create_new_data(test4)\n",
        "\n",
        "after_train = create_new_data(after_train)"
      ],
      "execution_count": 47,
      "outputs": [
        {
          "output_type": "stream",
          "name": "stderr",
          "text": [
            "/usr/local/lib/python3.7/dist-packages/ipykernel_launcher.py:3: SettingWithCopyWarning: \n",
            "A value is trying to be set on a copy of a slice from a DataFrame.\n",
            "Try using .loc[row_indexer,col_indexer] = value instead\n",
            "\n",
            "See the caveats in the documentation: https://pandas.pydata.org/pandas-docs/stable/user_guide/indexing.html#returning-a-view-versus-a-copy\n",
            "  This is separate from the ipykernel package so we can avoid doing imports until\n",
            "/usr/local/lib/python3.7/dist-packages/ipykernel_launcher.py:4: SettingWithCopyWarning: \n",
            "A value is trying to be set on a copy of a slice from a DataFrame.\n",
            "Try using .loc[row_indexer,col_indexer] = value instead\n",
            "\n",
            "See the caveats in the documentation: https://pandas.pydata.org/pandas-docs/stable/user_guide/indexing.html#returning-a-view-versus-a-copy\n",
            "  after removing the cwd from sys.path.\n",
            "/usr/local/lib/python3.7/dist-packages/ipykernel_launcher.py:5: SettingWithCopyWarning: \n",
            "A value is trying to be set on a copy of a slice from a DataFrame.\n",
            "Try using .loc[row_indexer,col_indexer] = value instead\n",
            "\n",
            "See the caveats in the documentation: https://pandas.pydata.org/pandas-docs/stable/user_guide/indexing.html#returning-a-view-versus-a-copy\n",
            "  \"\"\"\n",
            "/usr/local/lib/python3.7/dist-packages/ipykernel_launcher.py:6: SettingWithCopyWarning: \n",
            "A value is trying to be set on a copy of a slice from a DataFrame.\n",
            "Try using .loc[row_indexer,col_indexer] = value instead\n",
            "\n",
            "See the caveats in the documentation: https://pandas.pydata.org/pandas-docs/stable/user_guide/indexing.html#returning-a-view-versus-a-copy\n",
            "  \n"
          ]
        }
      ]
    },
    {
      "cell_type": "markdown",
      "metadata": {
        "id": "EOWe_nEYrPZ3"
      },
      "source": [
        "####Đơn biến"
      ]
    },
    {
      "cell_type": "code",
      "metadata": {
        "id": "1UOzAMUirRcv"
      },
      "source": [
        "#score\n",
        "def print_score(y, y_pred, name, rmse_lst, r2_lst):\n",
        "  _mse = mean_squared_error(y, y_pred)\n",
        "  \n",
        "  #print(\"mse_\"+name+\"= \", _mse)\n",
        "  #print(\"rmse_\"+name+\"= \", sqrt(_mse))\n",
        "  rmse_lst.append(sqrt(_mse))\n",
        "\n",
        "  _r2= r2_score(y, y_pred)\n",
        "  #print(\"r2_score_\"+name+\"= \", _r2)\n",
        "  r2_lst.append(_r2)\n",
        "\n",
        "  return r2_lst, rmse_lst"
      ],
      "execution_count": 48,
      "outputs": []
    },
    {
      "cell_type": "code",
      "metadata": {
        "id": "Qq2IIQhDrBiV"
      },
      "source": [
        "def Donbien(_lst_variables,data, test_data, rmse_score_3 , r2_score_3, name):\n",
        "  for i in _lst_variables:\n",
        "    lr = LinearRegression()\n",
        "    x_temp = np.array(data[i]).reshape(-1,1)\n",
        "    lr.fit(x_temp, data[\"y\"])\n",
        "    x_test  = np.array(test_data[i]).reshape(-1,1)\n",
        "    y_train_pred3 = lr.predict(x_test)\n",
        "    \n",
        "    r2_score_3, rmse_score_3 = print_score(test_data[\"y\"], y_train_pred3, i, rmse_score_3, r2_score_3)\n",
        "  df_score = pd.DataFrame(r2_score_3)\n",
        "  df_score.columns = [name]\n",
        "  df_score.index = _lst_variables\n",
        "  return df_score"
      ],
      "execution_count": 49,
      "outputs": []
    },
    {
      "cell_type": "code",
      "metadata": {
        "id": "4F00aStzqL0u"
      },
      "source": [
        "#train set\n",
        "rmse_score_3 = []\n",
        "r2_score_3 = []\n",
        "\n",
        "df_score_donbien_train = Donbien(_lst_variables,train, train, rmse_score_3, r2_score_3 , \"train\")"
      ],
      "execution_count": 50,
      "outputs": []
    },
    {
      "cell_type": "code",
      "metadata": {
        "id": "-kiIz2gZs8M9"
      },
      "source": [
        "#after train set\n",
        "rmse_score_3 = []\n",
        "r2_score_3 = []\n",
        "\n",
        "df_score_donbien_after_train = Donbien(_lst_variables,after_train, after_train,  rmse_score_3, r2_score_3, \"after_train\" )\n",
        "df_score = pd.concat([df_score_donbien_train, df_score_donbien_after_train], axis = 1)"
      ],
      "execution_count": 51,
      "outputs": []
    },
    {
      "cell_type": "code",
      "metadata": {
        "id": "66b9vWuf9BFv"
      },
      "source": [
        "# test3\n",
        "rmse_score_3 = []\n",
        "r2_score_3 = []\n",
        "\n",
        "df_score_donbien_test3 = Donbien(_lst_variables,after_train, test3, rmse_score_3, r2_score_3, \"test3\" )\n",
        "df_score = pd.concat([df_score, df_score_donbien_test3], axis = 1)"
      ],
      "execution_count": 52,
      "outputs": []
    },
    {
      "cell_type": "code",
      "metadata": {
        "id": "mQZ6pumaEPt5"
      },
      "source": [
        "# test3 original\n",
        "rmse_score_3 = []\n",
        "r2_score_3 = []\n",
        "\n",
        "df_score_donbien_test3_original= Donbien(_lst_variables,train, test3, rmse_score_3, r2_score_3, \"test3_original\" )\n",
        "df_score = pd.concat([df_score, df_score_donbien_test3_original], axis = 1)"
      ],
      "execution_count": 53,
      "outputs": []
    },
    {
      "cell_type": "code",
      "metadata": {
        "id": "lctY2M9CEb3T"
      },
      "source": [
        "# test4 original\n",
        "rmse_score_3 = []\n",
        "r2_score_3 = []\n",
        "\n",
        "df_score_donbien_test4_original= Donbien(_lst_variables,train, test4, rmse_score_3, r2_score_3, \"test4_original\" )\n",
        "df_score = pd.concat([df_score, df_score_donbien_test4_original], axis = 1)"
      ],
      "execution_count": 54,
      "outputs": []
    },
    {
      "cell_type": "code",
      "metadata": {
        "id": "S3EeRjnF9rQR"
      },
      "source": [
        "# test4\n",
        "rmse_score_3 = []\n",
        "r2_score_3 = []\n",
        "\n",
        "df_score_donbien_test4 = Donbien(_lst_variables,after_train, test4, rmse_score_3, r2_score_3, \"test4\" )\n",
        "df_score = pd.concat([df_score, df_score_donbien_test4], axis = 1)"
      ],
      "execution_count": 55,
      "outputs": []
    },
    {
      "cell_type": "code",
      "metadata": {
        "colab": {
          "base_uri": "https://localhost:8080/"
        },
        "id": "0YD6nLpwFLqQ",
        "outputId": "d055a9fa-3615-4f34-86f6-24fe2f31e89c"
      },
      "source": [
        "df_score.columns"
      ],
      "execution_count": 56,
      "outputs": [
        {
          "output_type": "execute_result",
          "data": {
            "text/plain": [
              "Index(['train', 'after_train', 'test3', 'test3_original', 'test4_original',\n",
              "       'test4'],\n",
              "      dtype='object')"
            ]
          },
          "metadata": {},
          "execution_count": 56
        }
      ]
    },
    {
      "cell_type": "code",
      "metadata": {
        "id": "mSbG0F8nFQb6"
      },
      "source": [
        "df_score=df_score[['train', 'after_train', 'test3_original','test3','test4_original','test4']]"
      ],
      "execution_count": 57,
      "outputs": []
    },
    {
      "cell_type": "code",
      "metadata": {
        "colab": {
          "base_uri": "https://localhost:8080/",
          "height": 206
        },
        "id": "xODiWungsmHg",
        "outputId": "1e9b082a-ae5e-4ad6-8b14-18f14653afba"
      },
      "source": [
        "df_score"
      ],
      "execution_count": 58,
      "outputs": [
        {
          "output_type": "execute_result",
          "data": {
            "text/html": [
              "<div>\n",
              "<style scoped>\n",
              "    .dataframe tbody tr th:only-of-type {\n",
              "        vertical-align: middle;\n",
              "    }\n",
              "\n",
              "    .dataframe tbody tr th {\n",
              "        vertical-align: top;\n",
              "    }\n",
              "\n",
              "    .dataframe thead th {\n",
              "        text-align: right;\n",
              "    }\n",
              "</style>\n",
              "<table border=\"1\" class=\"dataframe\">\n",
              "  <thead>\n",
              "    <tr style=\"text-align: right;\">\n",
              "      <th></th>\n",
              "      <th>train</th>\n",
              "      <th>after_train</th>\n",
              "      <th>test3_original</th>\n",
              "      <th>test3</th>\n",
              "      <th>test4_original</th>\n",
              "      <th>test4</th>\n",
              "    </tr>\n",
              "  </thead>\n",
              "  <tbody>\n",
              "    <tr>\n",
              "      <th>x</th>\n",
              "      <td>0.997592</td>\n",
              "      <td>0.974384</td>\n",
              "      <td>0.928413</td>\n",
              "      <td>0.974778</td>\n",
              "      <td>0.315684</td>\n",
              "      <td>0.684568</td>\n",
              "    </tr>\n",
              "    <tr>\n",
              "      <th>x2</th>\n",
              "      <td>0.943995</td>\n",
              "      <td>0.971242</td>\n",
              "      <td>-100.637532</td>\n",
              "      <td>-30.358313</td>\n",
              "      <td>-1781.939254</td>\n",
              "      <td>-664.172764</td>\n",
              "    </tr>\n",
              "    <tr>\n",
              "      <th>logx</th>\n",
              "      <td>0.732830</td>\n",
              "      <td>0.970367</td>\n",
              "      <td>-11.107644</td>\n",
              "      <td>-3.482320</td>\n",
              "      <td>-62.557360</td>\n",
              "      <td>-35.961712</td>\n",
              "    </tr>\n",
              "    <tr>\n",
              "      <th>xlogx</th>\n",
              "      <td>0.997951</td>\n",
              "      <td>0.974394</td>\n",
              "      <td>0.981487</td>\n",
              "      <td>0.982779</td>\n",
              "      <td>0.939267</td>\n",
              "      <td>0.943634</td>\n",
              "    </tr>\n",
              "    <tr>\n",
              "      <th>sqrtx</th>\n",
              "      <td>0.997592</td>\n",
              "      <td>0.974384</td>\n",
              "      <td>0.928413</td>\n",
              "      <td>0.974778</td>\n",
              "      <td>0.315684</td>\n",
              "      <td>0.684568</td>\n",
              "    </tr>\n",
              "  </tbody>\n",
              "</table>\n",
              "</div>"
            ],
            "text/plain": [
              "          train  after_train  ...  test4_original       test4\n",
              "x      0.997592     0.974384  ...        0.315684    0.684568\n",
              "x2     0.943995     0.971242  ...    -1781.939254 -664.172764\n",
              "logx   0.732830     0.970367  ...      -62.557360  -35.961712\n",
              "xlogx  0.997951     0.974394  ...        0.939267    0.943634\n",
              "sqrtx  0.997592     0.974384  ...        0.315684    0.684568\n",
              "\n",
              "[5 rows x 6 columns]"
            ]
          },
          "metadata": {},
          "execution_count": 58
        }
      ]
    },
    {
      "cell_type": "markdown",
      "metadata": {
        "id": "kF2jfztAwxK8"
      },
      "source": [
        "* Nhận xét: Dựa vào bảng trên ta có thể nhận thấy mô hình Simple LinearRegression hoạt động tốt với hàm \"xlogx\" ở cả hai bộ dữ liệu (bộ dữ liệu ban đầu và bộ dữ liệu đã loại bỏ bớt dữ liệu) với R^2_Score vượt trội so với các hàm còn lại => \"xlogx\" là hàm phù hợp nhất với mô hình Simple LinearRegression cho bộ dữ liệu này.\n"
      ]
    },
    {
      "cell_type": "markdown",
      "metadata": {
        "id": "huDhieul6WF4"
      },
      "source": [
        "####Đa biến"
      ]
    },
    {
      "cell_type": "code",
      "metadata": {
        "id": "Lg2DhWKYv9L0"
      },
      "source": [
        "def get_combination(_lst_variables,combination_lst): \n",
        "  for i in range(2, len(_lst_variables)):\n",
        "    temp = combinations(_lst_variables, i)\n",
        "    for j in temp: \n",
        "      combination_lst.append(j)\n",
        "  return combination_lst"
      ],
      "execution_count": 59,
      "outputs": []
    },
    {
      "cell_type": "code",
      "metadata": {
        "id": "qJCAoIFZx2eV"
      },
      "source": [
        "combination_lst = []\n",
        "get_combination(_lst_variables,combination_lst)\n",
        "for i in range(len(combination_lst)):\n",
        "  combination_lst[i] = list(combination_lst[i])"
      ],
      "execution_count": 60,
      "outputs": []
    },
    {
      "cell_type": "code",
      "metadata": {
        "id": "9V7cSOJp1PnT"
      },
      "source": [
        "def Dabien(combination_lst, data,test_data, name,rmse_score_3 , r2_score_3 ,index_df ):\n",
        "  for i in combination_lst:\n",
        "    lr = LinearRegression()\n",
        "    x_temp = data[i]\n",
        "    lr.fit(x_temp, data[\"y\"])\n",
        "    x_test = test_data[i]\n",
        "    y_train_pred = lr.predict(x_test)\n",
        "    \n",
        "    r2_score_3, rmse_score_3 = print_score(test_data[\"y\"], y_train_pred, i , rmse_score_3, r2_score_3)\n",
        "    \n",
        "  df_score = pd.DataFrame(r2_score_3)\n",
        "  df_score.columns = [name]\n",
        "  df_score.index = index_df\n",
        "  return df_score \n"
      ],
      "execution_count": 61,
      "outputs": []
    },
    {
      "cell_type": "code",
      "metadata": {
        "id": "Pfv6R5Ve5BC3"
      },
      "source": [
        "index_df = []\n",
        "for i in range(len(combination_lst)):\n",
        "  index_df.append(tuple(combination_lst[i]))"
      ],
      "execution_count": 62,
      "outputs": []
    },
    {
      "cell_type": "code",
      "metadata": {
        "id": "cPkIZyqJ4OQ2"
      },
      "source": [
        "#train\n",
        "rmse_score_3 = []\n",
        "r2_score_3 = []\n",
        "df_score_dabien_train= Dabien(combination_lst, train,train,  \"train\",rmse_score_3 , r2_score_3,index_df) "
      ],
      "execution_count": 63,
      "outputs": []
    },
    {
      "cell_type": "code",
      "metadata": {
        "id": "ZeqQh_LO44cW"
      },
      "source": [
        "#after train\n",
        "rmse_score_3 = []\n",
        "r2_score_3 = []\n",
        "df_score_dabien_aftrain= Dabien(combination_lst, after_train,after_train, \"after_train\",rmse_score_3 , r2_score_3,index_df) "
      ],
      "execution_count": 64,
      "outputs": []
    },
    {
      "cell_type": "code",
      "metadata": {
        "id": "Wf1-n2H3-ps0"
      },
      "source": [
        "#test3\n",
        "rmse_score_3 = []\n",
        "r2_score_3 = []\n",
        "df_score_dabien_test3= Dabien(combination_lst,after_train, test3, \"test3\",rmse_score_3 , r2_score_3,index_df) "
      ],
      "execution_count": 65,
      "outputs": []
    },
    {
      "cell_type": "code",
      "metadata": {
        "id": "OJ07G6UBEx33"
      },
      "source": [
        "#test3 original\n",
        "rmse_score_3 = []\n",
        "r2_score_3 = []\n",
        "df_score_dabien_test3_or= Dabien(combination_lst,train, test3, \"test3_original\",rmse_score_3 , r2_score_3,index_df) "
      ],
      "execution_count": 66,
      "outputs": []
    },
    {
      "cell_type": "code",
      "metadata": {
        "id": "pb_178kbE8Ts"
      },
      "source": [
        "#test4 original\n",
        "rmse_score_3 = []\n",
        "r2_score_3 = []\n",
        "df_score_dabien_test4_or= Dabien(combination_lst,train, test4, \"test4_original\",rmse_score_3 , r2_score_3,index_df) "
      ],
      "execution_count": 67,
      "outputs": []
    },
    {
      "cell_type": "code",
      "metadata": {
        "id": "xFL78g3j-qC5"
      },
      "source": [
        "#test4\n",
        "rmse_score_3 = []\n",
        "r2_score_3 = []\n",
        "df_score_dabien_test4= Dabien(combination_lst, after_train,test4, \"test4\",rmse_score_3 , r2_score_3,index_df) "
      ],
      "execution_count": 68,
      "outputs": []
    },
    {
      "cell_type": "code",
      "metadata": {
        "id": "uh6W6yjV6zSr"
      },
      "source": [
        "df_score_dabien = pd.concat([df_score_dabien_train, df_score_dabien_aftrain,df_score_dabien_test3_or, df_score_dabien_test3,df_score_dabien_test4_or,df_score_dabien_test4 ], axis = 1)"
      ],
      "execution_count": 69,
      "outputs": []
    },
    {
      "cell_type": "code",
      "metadata": {
        "id": "4fNESjoy68iA"
      },
      "source": [
        "df_score = pd.concat([df_score,df_score_dabien], axis  = 0)"
      ],
      "execution_count": 70,
      "outputs": []
    },
    {
      "cell_type": "code",
      "metadata": {
        "id": "a2acmsmP69NZ"
      },
      "source": [
        "df_score = df_score.sort_values([\"test4\",\"test3\"], ascending=False)"
      ],
      "execution_count": 71,
      "outputs": []
    },
    {
      "cell_type": "code",
      "metadata": {
        "colab": {
          "base_uri": "https://localhost:8080/",
          "height": 990
        },
        "id": "VGEKRWKzDBPC",
        "outputId": "f431af27-84be-46d0-e2bb-115e3adf5b5d"
      },
      "source": [
        "df_score.head(30)"
      ],
      "execution_count": 72,
      "outputs": [
        {
          "output_type": "execute_result",
          "data": {
            "text/html": [
              "<div>\n",
              "<style scoped>\n",
              "    .dataframe tbody tr th:only-of-type {\n",
              "        vertical-align: middle;\n",
              "    }\n",
              "\n",
              "    .dataframe tbody tr th {\n",
              "        vertical-align: top;\n",
              "    }\n",
              "\n",
              "    .dataframe thead th {\n",
              "        text-align: right;\n",
              "    }\n",
              "</style>\n",
              "<table border=\"1\" class=\"dataframe\">\n",
              "  <thead>\n",
              "    <tr style=\"text-align: right;\">\n",
              "      <th></th>\n",
              "      <th>train</th>\n",
              "      <th>after_train</th>\n",
              "      <th>test3_original</th>\n",
              "      <th>test3</th>\n",
              "      <th>test4_original</th>\n",
              "      <th>test4</th>\n",
              "    </tr>\n",
              "  </thead>\n",
              "  <tbody>\n",
              "    <tr>\n",
              "      <th>(x2, logx, xlogx)</th>\n",
              "      <td>0.997953</td>\n",
              "      <td>0.974394</td>\n",
              "      <td>0.987193</td>\n",
              "      <td>0.986501</td>\n",
              "      <td>0.948821</td>\n",
              "      <td>0.953757</td>\n",
              "    </tr>\n",
              "    <tr>\n",
              "      <th>(x2, xlogx)</th>\n",
              "      <td>0.997953</td>\n",
              "      <td>0.974394</td>\n",
              "      <td>0.987758</td>\n",
              "      <td>0.986501</td>\n",
              "      <td>0.934876</td>\n",
              "      <td>0.953757</td>\n",
              "    </tr>\n",
              "    <tr>\n",
              "      <th>(xlogx, sqrtx)</th>\n",
              "      <td>0.997953</td>\n",
              "      <td>0.974394</td>\n",
              "      <td>0.984779</td>\n",
              "      <td>0.985017</td>\n",
              "      <td>0.952186</td>\n",
              "      <td>0.953286</td>\n",
              "    </tr>\n",
              "    <tr>\n",
              "      <th>(x, xlogx, sqrtx)</th>\n",
              "      <td>0.997953</td>\n",
              "      <td>0.974394</td>\n",
              "      <td>0.984779</td>\n",
              "      <td>0.985017</td>\n",
              "      <td>0.952186</td>\n",
              "      <td>0.953286</td>\n",
              "    </tr>\n",
              "    <tr>\n",
              "      <th>(x, xlogx)</th>\n",
              "      <td>0.997953</td>\n",
              "      <td>0.974394</td>\n",
              "      <td>0.984779</td>\n",
              "      <td>0.985017</td>\n",
              "      <td>0.952186</td>\n",
              "      <td>0.953286</td>\n",
              "    </tr>\n",
              "    <tr>\n",
              "      <th>(logx, xlogx)</th>\n",
              "      <td>0.997953</td>\n",
              "      <td>0.974394</td>\n",
              "      <td>0.982583</td>\n",
              "      <td>0.984241</td>\n",
              "      <td>0.943275</td>\n",
              "      <td>0.949514</td>\n",
              "    </tr>\n",
              "    <tr>\n",
              "      <th>xlogx</th>\n",
              "      <td>0.997951</td>\n",
              "      <td>0.974394</td>\n",
              "      <td>0.981487</td>\n",
              "      <td>0.982779</td>\n",
              "      <td>0.939267</td>\n",
              "      <td>0.943634</td>\n",
              "    </tr>\n",
              "    <tr>\n",
              "      <th>(logx, sqrtx)</th>\n",
              "      <td>0.997863</td>\n",
              "      <td>0.974394</td>\n",
              "      <td>0.962287</td>\n",
              "      <td>0.987839</td>\n",
              "      <td>0.588200</td>\n",
              "      <td>0.905490</td>\n",
              "    </tr>\n",
              "    <tr>\n",
              "      <th>(x, logx)</th>\n",
              "      <td>0.997863</td>\n",
              "      <td>0.974394</td>\n",
              "      <td>0.962287</td>\n",
              "      <td>0.987839</td>\n",
              "      <td>0.588200</td>\n",
              "      <td>0.905490</td>\n",
              "    </tr>\n",
              "    <tr>\n",
              "      <th>(x, logx, sqrtx)</th>\n",
              "      <td>0.997863</td>\n",
              "      <td>0.974394</td>\n",
              "      <td>0.962287</td>\n",
              "      <td>0.987839</td>\n",
              "      <td>0.588200</td>\n",
              "      <td>0.905490</td>\n",
              "    </tr>\n",
              "    <tr>\n",
              "      <th>(x, sqrtx)</th>\n",
              "      <td>0.997592</td>\n",
              "      <td>0.974384</td>\n",
              "      <td>0.928413</td>\n",
              "      <td>0.974778</td>\n",
              "      <td>0.315684</td>\n",
              "      <td>0.684568</td>\n",
              "    </tr>\n",
              "    <tr>\n",
              "      <th>x</th>\n",
              "      <td>0.997592</td>\n",
              "      <td>0.974384</td>\n",
              "      <td>0.928413</td>\n",
              "      <td>0.974778</td>\n",
              "      <td>0.315684</td>\n",
              "      <td>0.684568</td>\n",
              "    </tr>\n",
              "    <tr>\n",
              "      <th>sqrtx</th>\n",
              "      <td>0.997592</td>\n",
              "      <td>0.974384</td>\n",
              "      <td>0.928413</td>\n",
              "      <td>0.974778</td>\n",
              "      <td>0.315684</td>\n",
              "      <td>0.684568</td>\n",
              "    </tr>\n",
              "    <tr>\n",
              "      <th>(x, logx, xlogx)</th>\n",
              "      <td>0.997953</td>\n",
              "      <td>0.974394</td>\n",
              "      <td>0.984837</td>\n",
              "      <td>0.972642</td>\n",
              "      <td>0.952382</td>\n",
              "      <td>0.446545</td>\n",
              "    </tr>\n",
              "    <tr>\n",
              "      <th>(logx, xlogx, sqrtx)</th>\n",
              "      <td>0.997953</td>\n",
              "      <td>0.974394</td>\n",
              "      <td>0.984837</td>\n",
              "      <td>0.972642</td>\n",
              "      <td>0.952382</td>\n",
              "      <td>0.446545</td>\n",
              "    </tr>\n",
              "    <tr>\n",
              "      <th>(x, logx, xlogx, sqrtx)</th>\n",
              "      <td>0.997953</td>\n",
              "      <td>0.974394</td>\n",
              "      <td>0.984837</td>\n",
              "      <td>0.972642</td>\n",
              "      <td>0.952382</td>\n",
              "      <td>0.446545</td>\n",
              "    </tr>\n",
              "    <tr>\n",
              "      <th>(x2, sqrtx)</th>\n",
              "      <td>0.997930</td>\n",
              "      <td>0.974394</td>\n",
              "      <td>0.682070</td>\n",
              "      <td>0.950670</td>\n",
              "      <td>-5.228733</td>\n",
              "      <td>0.140436</td>\n",
              "    </tr>\n",
              "    <tr>\n",
              "      <th>(x, x2)</th>\n",
              "      <td>0.997930</td>\n",
              "      <td>0.974394</td>\n",
              "      <td>0.682070</td>\n",
              "      <td>0.950670</td>\n",
              "      <td>-5.228733</td>\n",
              "      <td>0.140436</td>\n",
              "    </tr>\n",
              "    <tr>\n",
              "      <th>(x, x2, sqrtx)</th>\n",
              "      <td>0.997930</td>\n",
              "      <td>0.974394</td>\n",
              "      <td>0.682070</td>\n",
              "      <td>0.950670</td>\n",
              "      <td>-5.228733</td>\n",
              "      <td>0.140436</td>\n",
              "    </tr>\n",
              "    <tr>\n",
              "      <th>(x, x2, logx, sqrtx)</th>\n",
              "      <td>0.997947</td>\n",
              "      <td>0.974394</td>\n",
              "      <td>0.841021</td>\n",
              "      <td>0.950670</td>\n",
              "      <td>-2.042151</td>\n",
              "      <td>0.140436</td>\n",
              "    </tr>\n",
              "    <tr>\n",
              "      <th>(x, x2, logx)</th>\n",
              "      <td>0.997947</td>\n",
              "      <td>0.974394</td>\n",
              "      <td>0.841021</td>\n",
              "      <td>0.950670</td>\n",
              "      <td>-2.042151</td>\n",
              "      <td>0.140436</td>\n",
              "    </tr>\n",
              "    <tr>\n",
              "      <th>(x2, logx, sqrtx)</th>\n",
              "      <td>0.997947</td>\n",
              "      <td>0.974394</td>\n",
              "      <td>0.841021</td>\n",
              "      <td>0.950670</td>\n",
              "      <td>-2.042151</td>\n",
              "      <td>0.140436</td>\n",
              "    </tr>\n",
              "    <tr>\n",
              "      <th>(x2, logx, xlogx, sqrtx)</th>\n",
              "      <td>0.997953</td>\n",
              "      <td>0.974394</td>\n",
              "      <td>0.985516</td>\n",
              "      <td>0.916170</td>\n",
              "      <td>0.955234</td>\n",
              "      <td>-2.624762</td>\n",
              "    </tr>\n",
              "    <tr>\n",
              "      <th>(x, x2, xlogx)</th>\n",
              "      <td>0.997953</td>\n",
              "      <td>0.974394</td>\n",
              "      <td>0.985388</td>\n",
              "      <td>0.916170</td>\n",
              "      <td>0.954815</td>\n",
              "      <td>-2.624762</td>\n",
              "    </tr>\n",
              "    <tr>\n",
              "      <th>(x, x2, xlogx, sqrtx)</th>\n",
              "      <td>0.997953</td>\n",
              "      <td>0.974394</td>\n",
              "      <td>0.985388</td>\n",
              "      <td>0.916170</td>\n",
              "      <td>0.954815</td>\n",
              "      <td>-2.624762</td>\n",
              "    </tr>\n",
              "    <tr>\n",
              "      <th>(x, x2, logx, xlogx)</th>\n",
              "      <td>0.997953</td>\n",
              "      <td>0.974394</td>\n",
              "      <td>0.985516</td>\n",
              "      <td>0.916170</td>\n",
              "      <td>0.955234</td>\n",
              "      <td>-2.624762</td>\n",
              "    </tr>\n",
              "    <tr>\n",
              "      <th>(x2, xlogx, sqrtx)</th>\n",
              "      <td>0.997953</td>\n",
              "      <td>0.974394</td>\n",
              "      <td>0.985388</td>\n",
              "      <td>0.916170</td>\n",
              "      <td>0.954815</td>\n",
              "      <td>-2.624762</td>\n",
              "    </tr>\n",
              "    <tr>\n",
              "      <th>logx</th>\n",
              "      <td>0.732830</td>\n",
              "      <td>0.970367</td>\n",
              "      <td>-11.107644</td>\n",
              "      <td>-3.482320</td>\n",
              "      <td>-62.557360</td>\n",
              "      <td>-35.961712</td>\n",
              "    </tr>\n",
              "    <tr>\n",
              "      <th>(x2, logx)</th>\n",
              "      <td>0.983566</td>\n",
              "      <td>0.974387</td>\n",
              "      <td>-49.268280</td>\n",
              "      <td>-3.040829</td>\n",
              "      <td>-953.651995</td>\n",
              "      <td>-118.104259</td>\n",
              "    </tr>\n",
              "    <tr>\n",
              "      <th>x2</th>\n",
              "      <td>0.943995</td>\n",
              "      <td>0.971242</td>\n",
              "      <td>-100.637532</td>\n",
              "      <td>-30.358313</td>\n",
              "      <td>-1781.939254</td>\n",
              "      <td>-664.172764</td>\n",
              "    </tr>\n",
              "  </tbody>\n",
              "</table>\n",
              "</div>"
            ],
            "text/plain": [
              "                             train  after_train  ...  test4_original       test4\n",
              "(x2, logx, xlogx)         0.997953     0.974394  ...        0.948821    0.953757\n",
              "(x2, xlogx)               0.997953     0.974394  ...        0.934876    0.953757\n",
              "(xlogx, sqrtx)            0.997953     0.974394  ...        0.952186    0.953286\n",
              "(x, xlogx, sqrtx)         0.997953     0.974394  ...        0.952186    0.953286\n",
              "(x, xlogx)                0.997953     0.974394  ...        0.952186    0.953286\n",
              "(logx, xlogx)             0.997953     0.974394  ...        0.943275    0.949514\n",
              "xlogx                     0.997951     0.974394  ...        0.939267    0.943634\n",
              "(logx, sqrtx)             0.997863     0.974394  ...        0.588200    0.905490\n",
              "(x, logx)                 0.997863     0.974394  ...        0.588200    0.905490\n",
              "(x, logx, sqrtx)          0.997863     0.974394  ...        0.588200    0.905490\n",
              "(x, sqrtx)                0.997592     0.974384  ...        0.315684    0.684568\n",
              "x                         0.997592     0.974384  ...        0.315684    0.684568\n",
              "sqrtx                     0.997592     0.974384  ...        0.315684    0.684568\n",
              "(x, logx, xlogx)          0.997953     0.974394  ...        0.952382    0.446545\n",
              "(logx, xlogx, sqrtx)      0.997953     0.974394  ...        0.952382    0.446545\n",
              "(x, logx, xlogx, sqrtx)   0.997953     0.974394  ...        0.952382    0.446545\n",
              "(x2, sqrtx)               0.997930     0.974394  ...       -5.228733    0.140436\n",
              "(x, x2)                   0.997930     0.974394  ...       -5.228733    0.140436\n",
              "(x, x2, sqrtx)            0.997930     0.974394  ...       -5.228733    0.140436\n",
              "(x, x2, logx, sqrtx)      0.997947     0.974394  ...       -2.042151    0.140436\n",
              "(x, x2, logx)             0.997947     0.974394  ...       -2.042151    0.140436\n",
              "(x2, logx, sqrtx)         0.997947     0.974394  ...       -2.042151    0.140436\n",
              "(x2, logx, xlogx, sqrtx)  0.997953     0.974394  ...        0.955234   -2.624762\n",
              "(x, x2, xlogx)            0.997953     0.974394  ...        0.954815   -2.624762\n",
              "(x, x2, xlogx, sqrtx)     0.997953     0.974394  ...        0.954815   -2.624762\n",
              "(x, x2, logx, xlogx)      0.997953     0.974394  ...        0.955234   -2.624762\n",
              "(x2, xlogx, sqrtx)        0.997953     0.974394  ...        0.954815   -2.624762\n",
              "logx                      0.732830     0.970367  ...      -62.557360  -35.961712\n",
              "(x2, logx)                0.983566     0.974387  ...     -953.651995 -118.104259\n",
              "x2                        0.943995     0.971242  ...    -1781.939254 -664.172764\n",
              "\n",
              "[30 rows x 6 columns]"
            ]
          },
          "metadata": {},
          "execution_count": 72
        }
      ]
    },
    {
      "cell_type": "markdown",
      "metadata": {
        "id": "I5v60WxCxUzX"
      },
      "source": [
        "* Nhận xét: Chúng em đã sắp xếp bảng kết quả theo giá trị giảm dần của R^2_Score theo test4 và test3. Chúng em nhận thấy  (x2, logx, xlogx), (x2, xlogx) là có R^2_Socre cao nhất ở tập test4: y = 𝞱_1x^2 + 𝞱_2*log(x) +𝞱_3*x*log(x) + 𝞱_0 và y = 𝞱_1x^2 + 𝞱_2*x*log(x) + 𝞱_0"
      ]
    },
    {
      "cell_type": "code",
      "metadata": {
        "id": "9VzcS_Ga_CS3"
      },
      "source": [
        "def Dabienfinal(combination_lst, data,test_data ):\n",
        "  for i in combination_lst:\n",
        "    lr = LinearRegression()\n",
        "    x_temp = data[i]\n",
        "    lr.fit(x_temp, data[\"y\"])\n",
        "    print(lr.coef_)\n",
        "    print(lr.intercept_)\n",
        "  return "
      ],
      "execution_count": 73,
      "outputs": []
    },
    {
      "cell_type": "code",
      "metadata": {
        "id": "l6BwmqyqP1Vo"
      },
      "source": [
        "lst = [['x2', 'logx', 'xlogx'],['x2', 'xlogx']]"
      ],
      "execution_count": 74,
      "outputs": []
    },
    {
      "cell_type": "code",
      "metadata": {
        "colab": {
          "base_uri": "https://localhost:8080/"
        },
        "id": "SkSidWHfQNjz",
        "outputId": "b82d9240-a574-4648-82fe-e31e440db710"
      },
      "source": [
        "Dabienfinal(lst, after_train, test3)"
      ],
      "execution_count": 75,
      "outputs": [
        {
          "output_type": "stream",
          "name": "stdout",
          "text": [
            "[-3.31137721e-17  8.23971905e-17  5.21370627e-09]\n",
            "0.0007387822294362412\n",
            "[-3.31137721e-17  5.21370627e-09]\n",
            "0.0007387822294371293\n"
          ]
        }
      ]
    },
    {
      "cell_type": "markdown",
      "metadata": {
        "id": "FwGmlrw_Q-GB"
      },
      "source": [
        "## Kết luận \n",
        "Hai hàm hypothesis tốt nhất tìm được:\n",
        "*   y = -3.31137721e-17x^2 + 8.23971905e-17log(x) +.21370627e-09xlog(x) + 0.0007387822294362412\n",
        "*   y = -3.31137721e-17x^2 + 5.21370627e-09x*log(x) + 0.0007387822294371293\n",
        "\n"
      ]
    },
    {
      "cell_type": "markdown",
      "metadata": {
        "id": "RVi1amuTTRO8"
      },
      "source": [
        "* Sau khi thực nghiệm chúng em được kết quả tốt nhất trên tập after train, test3 và test4 lần lượt là:0.974394, 0.986501 và 0.953757. Với after train là tập được tạo từ tập train ban đầu sau khi đã loại bỏ dữ liệu theo ngưỡng đã thực nghiệm."
      ]
    },
    {
      "cell_type": "markdown",
      "metadata": {
        "id": "w55PnZ9IY8qk"
      },
      "source": [
        "### Kết quả (theo R^2 score) có cải thiện sau các bước thực nghiệm cụ thể là:\n",
        "* *Ban đầu*: test3 (**92.84%**), test4 (**31.57%**)\n",
        "* *Giảm kích* thước bộ dữ liệu: test3 (**97.48%**), test4 (**68.46%**)\n",
        "* *Sử dụng hàm độ phức tạp với đơn biến*: test3 (**98.28%**), test4 (**94.36%**)\n",
        "* *Sử dụng hàm độ phức tạp với đa biến*: test3 (**98.65%**), test4 (**95.38%**)\n",
        "\n"
      ]
    }
  ]
}